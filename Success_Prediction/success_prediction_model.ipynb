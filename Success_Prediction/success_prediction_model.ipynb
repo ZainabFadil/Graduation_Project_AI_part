{
  "nbformat": 4,
  "nbformat_minor": 0,
  "metadata": {
    "colab": {
      "provenance": []
    },
    "kernelspec": {
      "name": "python3",
      "display_name": "Python 3"
    },
    "language_info": {
      "name": "python"
    }
  },
  "cells": [
    {
      "cell_type": "code",
      "execution_count": 1,
      "metadata": {
        "id": "umFhDEL_ixz6"
      },
      "outputs": [],
      "source": [
        "import pandas as pd\n",
        "\n",
        "# تحميل البيانات\n",
        "df = pd.read_csv(\"cleaned_augmented_success_prediction_dataset.csv\")\n",
        "\n",
        "# حذف الصفوف اللي فيها missing في العمود الهدف\n",
        "df_clean = df.dropna(subset=[\"is_successful\"]).copy()\n"
      ]
    },
    {
      "cell_type": "markdown",
      "source": [
        "***Feature Engineering***"
      ],
      "metadata": {
        "id": "EeQMIldqjVIN"
      }
    },
    {
      "cell_type": "code",
      "source": [
        "# حساب عمر الشركة بدل سنة التأسيس\n",
        "current_year = 2025\n",
        "df_clean[\"startup_age\"] = current_year - df_clean[\"founded_year\"]\n",
        "\n",
        "# حذف العمود القديم\n",
        "df_clean.drop(\"founded_year\", axis=1, inplace=True)"
      ],
      "metadata": {
        "id": "uMP8IKWujMhd"
      },
      "execution_count": 2,
      "outputs": []
    },
    {
      "cell_type": "code",
      "source": [
        "# الأعمدة الاسمية اللي هنعملها Label Encoding\n",
        "from sklearn.preprocessing import LabelEncoder\n",
        "\n",
        "categorical_cols = [\"city\", \"industry\", \"startup_stage\",\n",
        "                    \"market_competition_level\", \"num_direct_competitors\",\n",
        "                    \"market_need_level\"]\n",
        "\n",
        "label_encoders = {}\n",
        "\n",
        "for col in categorical_cols:\n",
        "    le = LabelEncoder()\n",
        "    df_clean[col] = le.fit_transform(df_clean[col])\n",
        "    label_encoders[col] = le"
      ],
      "metadata": {
        "id": "PQvqFZsyjMnr"
      },
      "execution_count": 3,
      "outputs": []
    },
    {
      "cell_type": "markdown",
      "source": [
        "***Data Splitting (X AND Y)***"
      ],
      "metadata": {
        "id": "CfcHtGjbjlnx"
      }
    },
    {
      "cell_type": "code",
      "source": [
        "# فصل البيانات\n",
        "X = df_clean.drop(\"is_successful\", axis=1)\n",
        "y = df_clean[\"is_successful\"]\n"
      ],
      "metadata": {
        "id": "qBt9zq8NjMsU"
      },
      "execution_count": 4,
      "outputs": []
    },
    {
      "cell_type": "markdown",
      "source": [
        "***Scaling***"
      ],
      "metadata": {
        "id": "esn8yKnJkUFO"
      }
    },
    {
      "cell_type": "code",
      "source": [
        "from sklearn.preprocessing import StandardScaler\n",
        "\n",
        "scaler = StandardScaler()\n",
        "X_scaled = scaler.fit_transform(X)\n"
      ],
      "metadata": {
        "id": "nvr_xYgjjMxZ"
      },
      "execution_count": 5,
      "outputs": []
    },
    {
      "cell_type": "markdown",
      "source": [
        "***Data Splitting (Train / Test)***"
      ],
      "metadata": {
        "id": "8aGEoRDWkn0w"
      }
    },
    {
      "cell_type": "code",
      "source": [
        "from sklearn.model_selection import train_test_split\n",
        "\n",
        "X_train, X_test, y_train, y_test = train_test_split(\n",
        "    X_scaled, y, test_size=0.2, random_state=42)\n"
      ],
      "metadata": {
        "id": "Am1BJhBYjM3p"
      },
      "execution_count": 6,
      "outputs": []
    },
    {
      "cell_type": "markdown",
      "source": [
        "***Model Building***"
      ],
      "metadata": {
        "id": "MRqIJxefkxSR"
      }
    },
    {
      "cell_type": "code",
      "source": [
        "pip install xgboost\n"
      ],
      "metadata": {
        "colab": {
          "base_uri": "https://localhost:8080/"
        },
        "id": "NJYIQEbijM8e",
        "outputId": "22cfc961-d938-4905-ded1-ca971ad429b8"
      },
      "execution_count": 7,
      "outputs": [
        {
          "output_type": "stream",
          "name": "stdout",
          "text": [
            "Requirement already satisfied: xgboost in /usr/local/lib/python3.11/dist-packages (2.1.4)\n",
            "Requirement already satisfied: numpy in /usr/local/lib/python3.11/dist-packages (from xgboost) (2.0.2)\n",
            "Requirement already satisfied: nvidia-nccl-cu12 in /usr/local/lib/python3.11/dist-packages (from xgboost) (2.21.5)\n",
            "Requirement already satisfied: scipy in /usr/local/lib/python3.11/dist-packages (from xgboost) (1.15.3)\n"
          ]
        }
      ]
    },
    {
      "cell_type": "code",
      "source": [
        "import time\n",
        "from sklearn.linear_model import LogisticRegression\n",
        "from sklearn.svm import SVC\n",
        "from xgboost import XGBClassifier\n",
        "from sklearn.neighbors import KNeighborsClassifier\n",
        "from sklearn.ensemble import RandomForestClassifier\n",
        "from sklearn.metrics import accuracy_score, classification_report, confusion_matrix\n",
        "\n",
        "# تعريف الموديلات\n",
        "models = {\n",
        "    \"RandomForest\": RandomForestClassifier(random_state=42),\n",
        "    \"LogisticRegression\": LogisticRegression(max_iter=1000, random_state=42),\n",
        "    \"SVM\": SVC(probability=True, random_state=42),\n",
        "    \"XGBoost\": XGBClassifier(use_label_encoder=False, eval_metric='logloss', random_state=42),\n",
        "    \"KNN\": KNeighborsClassifier()\n",
        "}\n",
        "\n",
        "# تخزين النتائج\n",
        "results = {}\n",
        "\n",
        "# تجربة وتقييم كل موديل\n",
        "for name, model in models.items():\n",
        "    print(f\"\\n====== {name} ======\")\n",
        "\n",
        "    start_time = time.time()\n",
        "    model.fit(X_train, y_train)\n",
        "    y_pred = model.predict(X_test)\n",
        "    end_time = time.time()\n",
        "\n",
        "    accuracy = accuracy_score(y_test, y_pred)\n",
        "    f1 = classification_report(y_test, y_pred, output_dict=True)['weighted avg']['f1-score']\n",
        "    conf = confusion_matrix(y_test, y_pred)\n",
        "\n",
        "    print(f\"Accuracy: {accuracy:.4f}\")\n",
        "    print(f\"F1 Score: {f1:.4f}\")\n",
        "    print(\"Confusion Matrix:\")\n",
        "    print(conf)\n",
        "    print(f\"Time taken: {end_time - start_time:.2f} seconds\")\n",
        "\n",
        "    # تخزين النتائج لاستخدام لاحق\n",
        "    results[name] = {\n",
        "        \"Accuracy\": accuracy,\n",
        "        \"F1 Score\": f1,\n",
        "        \"Time\": end_time - start_time,\n",
        "        \"Confusion Matrix\": conf\n",
        "    }\n"
      ],
      "metadata": {
        "colab": {
          "base_uri": "https://localhost:8080/"
        },
        "id": "w9BPaHRxjNA2",
        "outputId": "346b51b6-1ca8-431c-b68f-763bb0ecf4e5"
      },
      "execution_count": 8,
      "outputs": [
        {
          "output_type": "stream",
          "name": "stdout",
          "text": [
            "\n",
            "====== RandomForest ======\n",
            "Accuracy: 1.0000\n",
            "F1 Score: 1.0000\n",
            "Confusion Matrix:\n",
            "[[52  0]\n",
            " [ 0 28]]\n",
            "Time taken: 1.08 seconds\n",
            "\n",
            "====== LogisticRegression ======\n",
            "Accuracy: 0.8250\n",
            "F1 Score: 0.8263\n",
            "Confusion Matrix:\n",
            "[[44  8]\n",
            " [ 6 22]]\n",
            "Time taken: 0.16 seconds\n",
            "\n",
            "====== SVM ======\n",
            "Accuracy: 0.9625\n",
            "F1 Score: 0.9626\n",
            "Confusion Matrix:\n",
            "[[50  2]\n",
            " [ 1 27]]\n",
            "Time taken: 0.03 seconds\n",
            "\n",
            "====== XGBoost ======\n",
            "Accuracy: 1.0000\n",
            "F1 Score: 1.0000\n",
            "Confusion Matrix:\n",
            "[[52  0]\n",
            " [ 0 28]]\n",
            "Time taken: 0.15 seconds\n",
            "\n",
            "====== KNN ======\n",
            "Accuracy: 0.9625\n",
            "F1 Score: 0.9629\n",
            "Confusion Matrix:\n",
            "[[49  3]\n",
            " [ 0 28]]\n",
            "Time taken: 0.01 seconds\n"
          ]
        },
        {
          "output_type": "stream",
          "name": "stderr",
          "text": [
            "/usr/local/lib/python3.11/dist-packages/xgboost/core.py:158: UserWarning: [08:38:26] WARNING: /workspace/src/learner.cc:740: \n",
            "Parameters: { \"use_label_encoder\" } are not used.\n",
            "\n",
            "  warnings.warn(smsg, UserWarning)\n"
          ]
        }
      ]
    },
    {
      "cell_type": "markdown",
      "source": [
        "***Use Logistic regression model***"
      ],
      "metadata": {
        "id": "TXNl1sJMpVPT"
      }
    },
    {
      "cell_type": "markdown",
      "source": [
        "***calculate Training Accuracy and Testing Accuracy***"
      ],
      "metadata": {
        "id": "1_rGy8kCpc0y"
      }
    },
    {
      "cell_type": "code",
      "source": [
        "from sklearn.linear_model import LogisticRegression\n",
        "from sklearn.metrics import accuracy_score\n",
        "import joblib\n",
        "\n",
        "# تدريب الموديل\n",
        "logreg = LogisticRegression(max_iter=1000, random_state=42)\n",
        "logreg.fit(X_train, y_train)\n",
        "\n",
        "# حساب Training Accuracy\n",
        "train_preds = logreg.predict(X_train)\n",
        "train_acc = accuracy_score(y_train, train_preds)\n",
        "print(\"Training Accuracy:\", train_acc)\n",
        "\n",
        "# حساب Testing Accuracy\n",
        "test_preds = logreg.predict(X_test)\n",
        "test_acc = accuracy_score(y_test, test_preds)\n",
        "print(\"Testing Accuracy:\", test_acc)\n"
      ],
      "metadata": {
        "colab": {
          "base_uri": "https://localhost:8080/"
        },
        "id": "bKoPbrsCjNFR",
        "outputId": "2d4cf252-c490-43a2-cae3-35833e09d0bb"
      },
      "execution_count": 9,
      "outputs": [
        {
          "output_type": "stream",
          "name": "stdout",
          "text": [
            "Training Accuracy: 0.840625\n",
            "Testing Accuracy: 0.825\n"
          ]
        }
      ]
    },
    {
      "cell_type": "markdown",
      "source": [
        "***Save model as PKL***"
      ],
      "metadata": {
        "id": "I2RZxWKbpqMn"
      }
    },
    {
      "cell_type": "code",
      "source": [
        "# حفظ الموديل\n",
        "joblib.dump(logreg, \"logistic_model.pkl\")\n"
      ],
      "metadata": {
        "colab": {
          "base_uri": "https://localhost:8080/"
        },
        "id": "NOd5rp0gplVi",
        "outputId": "5ecdbcd7-4199-4444-f942-0736679e6366"
      },
      "execution_count": 10,
      "outputs": [
        {
          "output_type": "execute_result",
          "data": {
            "text/plain": [
              "['logistic_model.pkl']"
            ]
          },
          "metadata": {},
          "execution_count": 10
        }
      ]
    },
    {
      "cell_type": "code",
      "source": [
        "import joblib\n",
        "\n",
        "# 1. حفظ الموديل\n",
        "joblib.dump(logreg, \"logistic_model.pkl\")\n",
        "\n",
        "# 2. حفظ الـ Scaler\n",
        "joblib.dump(scaler, \"scaler.pkl\")\n",
        "\n",
        "# 3. حفظ الـ Label Encoders (لو كنتِ استخدمتيهم في Feature Engineering)\n",
        "joblib.dump(label_encoders, \"label_encoders.pkl\")\n",
        "\n",
        "print(\"✅ تم حفظ الموديل وكل الأدوات بنجاح!\")\n"
      ],
      "metadata": {
        "colab": {
          "base_uri": "https://localhost:8080/"
        },
        "id": "TkTMTu3Jpu3N",
        "outputId": "4a12c9cd-db64-43e5-ee12-e7cd640f6f19"
      },
      "execution_count": 11,
      "outputs": [
        {
          "output_type": "stream",
          "name": "stdout",
          "text": [
            "✅ تم حفظ الموديل وكل الأدوات بنجاح!\n"
          ]
        }
      ]
    }
  ]
}