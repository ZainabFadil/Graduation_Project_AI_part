{
  "nbformat": 4,
  "nbformat_minor": 0,
  "metadata": {
    "colab": {
      "provenance": []
    },
    "kernelspec": {
      "name": "python3",
      "display_name": "Python 3"
    },
    "language_info": {
      "name": "python"
    }
  },
  "cells": [
    {
      "cell_type": "code",
      "execution_count": 1,
      "metadata": {
        "id": "tWnNESMe1pec"
      },
      "outputs": [],
      "source": [
        "import pandas as pd\n",
        "import numpy as np\n",
        "import matplotlib.pyplot as plt\n",
        "import seaborn as sns\n",
        "import warnings\n",
        "warnings.filterwarnings('ignore')"
      ]
    },
    {
      "cell_type": "code",
      "source": [
        "data = pd.read_excel('/content/startup_success_dataset_template (1).xlsx')"
      ],
      "metadata": {
        "id": "6gENV26m2UDl"
      },
      "execution_count": 2,
      "outputs": []
    },
    {
      "cell_type": "code",
      "source": [
        "data.head()"
      ],
      "metadata": {
        "colab": {
          "base_uri": "https://localhost:8080/",
          "height": 256
        },
        "id": "AAaulr3G2hau",
        "outputId": "33f9fbbd-23dc-409d-84a8-6d8e28daa97a"
      },
      "execution_count": 3,
      "outputs": [
        {
          "output_type": "execute_result",
          "data": {
            "text/plain": [
              "  startup_name founded_year   city        industry  has_online_presence  \\\n",
              "0    MNT-Halan         2017  Cairo         Fintech                    1   \n",
              "1       Paymob         2015  Cairo         Fintech                    1   \n",
              "2        Bosta        2017?  Cairo       Logistics                    1   \n",
              "3         Swvl         2017  Cairo  Transportation                    1   \n",
              "4    Breadfast         2017  Cairo        F&B/Ecom                    1   \n",
              "\n",
              "  num_founders num_employees initial_funding got_external_funding  \\\n",
              "0            3          500+        30e3 USD                    1   \n",
              "1            3          200+               —                    1   \n",
              "2            2          300+               —                    1   \n",
              "3            3           600        30e3 USD                    1   \n",
              "4            3          150+               —                    1   \n",
              "\n",
              "  startup_stage  ... founder_education previous_startup_experience  \\\n",
              "0        Market  ...                 —                           —   \n",
              "1        Market  ...                 —                           —   \n",
              "2        Market  ...                 —                           —   \n",
              "3        Market  ...                 —                           —   \n",
              "4        Market  ...                 —                           —   \n",
              "\n",
              "  founder_experience_years market_competition_level incubator_support  \\\n",
              "0                        —                     High               1.0   \n",
              "1                        —                     High               1.0   \n",
              "2                        —                     High               1.0   \n",
              "3                        —                     High               1.0   \n",
              "4                        —                   Medium               1.0   \n",
              "\n",
              "   num_direct_competitors market_need_level is_successful years_to_failure  \\\n",
              "0                    Many            Strong             1                —   \n",
              "1                    Many            Strong             1                —   \n",
              "2                    Many            Strong             1                —   \n",
              "3                    Many            Strong             1                —   \n",
              "4                    Many            Strong             1                —   \n",
              "\n",
              "  made_profit_in_3y  \n",
              "0                 1  \n",
              "1                 1  \n",
              "2                 1  \n",
              "3                 1  \n",
              "4                 1  \n",
              "\n",
              "[5 rows x 21 columns]"
            ],
            "text/html": [
              "\n",
              "  <div id=\"df-7a21e84a-da13-407c-acf6-6fde074cf85f\" class=\"colab-df-container\">\n",
              "    <div>\n",
              "<style scoped>\n",
              "    .dataframe tbody tr th:only-of-type {\n",
              "        vertical-align: middle;\n",
              "    }\n",
              "\n",
              "    .dataframe tbody tr th {\n",
              "        vertical-align: top;\n",
              "    }\n",
              "\n",
              "    .dataframe thead th {\n",
              "        text-align: right;\n",
              "    }\n",
              "</style>\n",
              "<table border=\"1\" class=\"dataframe\">\n",
              "  <thead>\n",
              "    <tr style=\"text-align: right;\">\n",
              "      <th></th>\n",
              "      <th>startup_name</th>\n",
              "      <th>founded_year</th>\n",
              "      <th>city</th>\n",
              "      <th>industry</th>\n",
              "      <th>has_online_presence</th>\n",
              "      <th>num_founders</th>\n",
              "      <th>num_employees</th>\n",
              "      <th>initial_funding</th>\n",
              "      <th>got_external_funding</th>\n",
              "      <th>startup_stage</th>\n",
              "      <th>...</th>\n",
              "      <th>founder_education</th>\n",
              "      <th>previous_startup_experience</th>\n",
              "      <th>founder_experience_years</th>\n",
              "      <th>market_competition_level</th>\n",
              "      <th>incubator_support</th>\n",
              "      <th>num_direct_competitors</th>\n",
              "      <th>market_need_level</th>\n",
              "      <th>is_successful</th>\n",
              "      <th>years_to_failure</th>\n",
              "      <th>made_profit_in_3y</th>\n",
              "    </tr>\n",
              "  </thead>\n",
              "  <tbody>\n",
              "    <tr>\n",
              "      <th>0</th>\n",
              "      <td>MNT-Halan</td>\n",
              "      <td>2017</td>\n",
              "      <td>Cairo</td>\n",
              "      <td>Fintech</td>\n",
              "      <td>1</td>\n",
              "      <td>3</td>\n",
              "      <td>500+</td>\n",
              "      <td>30e3 USD</td>\n",
              "      <td>1</td>\n",
              "      <td>Market</td>\n",
              "      <td>...</td>\n",
              "      <td>—</td>\n",
              "      <td>—</td>\n",
              "      <td>—</td>\n",
              "      <td>High</td>\n",
              "      <td>1.0</td>\n",
              "      <td>Many</td>\n",
              "      <td>Strong</td>\n",
              "      <td>1</td>\n",
              "      <td>—</td>\n",
              "      <td>1</td>\n",
              "    </tr>\n",
              "    <tr>\n",
              "      <th>1</th>\n",
              "      <td>Paymob</td>\n",
              "      <td>2015</td>\n",
              "      <td>Cairo</td>\n",
              "      <td>Fintech</td>\n",
              "      <td>1</td>\n",
              "      <td>3</td>\n",
              "      <td>200+</td>\n",
              "      <td>—</td>\n",
              "      <td>1</td>\n",
              "      <td>Market</td>\n",
              "      <td>...</td>\n",
              "      <td>—</td>\n",
              "      <td>—</td>\n",
              "      <td>—</td>\n",
              "      <td>High</td>\n",
              "      <td>1.0</td>\n",
              "      <td>Many</td>\n",
              "      <td>Strong</td>\n",
              "      <td>1</td>\n",
              "      <td>—</td>\n",
              "      <td>1</td>\n",
              "    </tr>\n",
              "    <tr>\n",
              "      <th>2</th>\n",
              "      <td>Bosta</td>\n",
              "      <td>2017?</td>\n",
              "      <td>Cairo</td>\n",
              "      <td>Logistics</td>\n",
              "      <td>1</td>\n",
              "      <td>2</td>\n",
              "      <td>300+</td>\n",
              "      <td>—</td>\n",
              "      <td>1</td>\n",
              "      <td>Market</td>\n",
              "      <td>...</td>\n",
              "      <td>—</td>\n",
              "      <td>—</td>\n",
              "      <td>—</td>\n",
              "      <td>High</td>\n",
              "      <td>1.0</td>\n",
              "      <td>Many</td>\n",
              "      <td>Strong</td>\n",
              "      <td>1</td>\n",
              "      <td>—</td>\n",
              "      <td>1</td>\n",
              "    </tr>\n",
              "    <tr>\n",
              "      <th>3</th>\n",
              "      <td>Swvl</td>\n",
              "      <td>2017</td>\n",
              "      <td>Cairo</td>\n",
              "      <td>Transportation</td>\n",
              "      <td>1</td>\n",
              "      <td>3</td>\n",
              "      <td>600</td>\n",
              "      <td>30e3 USD</td>\n",
              "      <td>1</td>\n",
              "      <td>Market</td>\n",
              "      <td>...</td>\n",
              "      <td>—</td>\n",
              "      <td>—</td>\n",
              "      <td>—</td>\n",
              "      <td>High</td>\n",
              "      <td>1.0</td>\n",
              "      <td>Many</td>\n",
              "      <td>Strong</td>\n",
              "      <td>1</td>\n",
              "      <td>—</td>\n",
              "      <td>1</td>\n",
              "    </tr>\n",
              "    <tr>\n",
              "      <th>4</th>\n",
              "      <td>Breadfast</td>\n",
              "      <td>2017</td>\n",
              "      <td>Cairo</td>\n",
              "      <td>F&amp;B/Ecom</td>\n",
              "      <td>1</td>\n",
              "      <td>3</td>\n",
              "      <td>150+</td>\n",
              "      <td>—</td>\n",
              "      <td>1</td>\n",
              "      <td>Market</td>\n",
              "      <td>...</td>\n",
              "      <td>—</td>\n",
              "      <td>—</td>\n",
              "      <td>—</td>\n",
              "      <td>Medium</td>\n",
              "      <td>1.0</td>\n",
              "      <td>Many</td>\n",
              "      <td>Strong</td>\n",
              "      <td>1</td>\n",
              "      <td>—</td>\n",
              "      <td>1</td>\n",
              "    </tr>\n",
              "  </tbody>\n",
              "</table>\n",
              "<p>5 rows × 21 columns</p>\n",
              "</div>\n",
              "    <div class=\"colab-df-buttons\">\n",
              "\n",
              "  <div class=\"colab-df-container\">\n",
              "    <button class=\"colab-df-convert\" onclick=\"convertToInteractive('df-7a21e84a-da13-407c-acf6-6fde074cf85f')\"\n",
              "            title=\"Convert this dataframe to an interactive table.\"\n",
              "            style=\"display:none;\">\n",
              "\n",
              "  <svg xmlns=\"http://www.w3.org/2000/svg\" height=\"24px\" viewBox=\"0 -960 960 960\">\n",
              "    <path d=\"M120-120v-720h720v720H120Zm60-500h600v-160H180v160Zm220 220h160v-160H400v160Zm0 220h160v-160H400v160ZM180-400h160v-160H180v160Zm440 0h160v-160H620v160ZM180-180h160v-160H180v160Zm440 0h160v-160H620v160Z\"/>\n",
              "  </svg>\n",
              "    </button>\n",
              "\n",
              "  <style>\n",
              "    .colab-df-container {\n",
              "      display:flex;\n",
              "      gap: 12px;\n",
              "    }\n",
              "\n",
              "    .colab-df-convert {\n",
              "      background-color: #E8F0FE;\n",
              "      border: none;\n",
              "      border-radius: 50%;\n",
              "      cursor: pointer;\n",
              "      display: none;\n",
              "      fill: #1967D2;\n",
              "      height: 32px;\n",
              "      padding: 0 0 0 0;\n",
              "      width: 32px;\n",
              "    }\n",
              "\n",
              "    .colab-df-convert:hover {\n",
              "      background-color: #E2EBFA;\n",
              "      box-shadow: 0px 1px 2px rgba(60, 64, 67, 0.3), 0px 1px 3px 1px rgba(60, 64, 67, 0.15);\n",
              "      fill: #174EA6;\n",
              "    }\n",
              "\n",
              "    .colab-df-buttons div {\n",
              "      margin-bottom: 4px;\n",
              "    }\n",
              "\n",
              "    [theme=dark] .colab-df-convert {\n",
              "      background-color: #3B4455;\n",
              "      fill: #D2E3FC;\n",
              "    }\n",
              "\n",
              "    [theme=dark] .colab-df-convert:hover {\n",
              "      background-color: #434B5C;\n",
              "      box-shadow: 0px 1px 3px 1px rgba(0, 0, 0, 0.15);\n",
              "      filter: drop-shadow(0px 1px 2px rgba(0, 0, 0, 0.3));\n",
              "      fill: #FFFFFF;\n",
              "    }\n",
              "  </style>\n",
              "\n",
              "    <script>\n",
              "      const buttonEl =\n",
              "        document.querySelector('#df-7a21e84a-da13-407c-acf6-6fde074cf85f button.colab-df-convert');\n",
              "      buttonEl.style.display =\n",
              "        google.colab.kernel.accessAllowed ? 'block' : 'none';\n",
              "\n",
              "      async function convertToInteractive(key) {\n",
              "        const element = document.querySelector('#df-7a21e84a-da13-407c-acf6-6fde074cf85f');\n",
              "        const dataTable =\n",
              "          await google.colab.kernel.invokeFunction('convertToInteractive',\n",
              "                                                    [key], {});\n",
              "        if (!dataTable) return;\n",
              "\n",
              "        const docLinkHtml = 'Like what you see? Visit the ' +\n",
              "          '<a target=\"_blank\" href=https://colab.research.google.com/notebooks/data_table.ipynb>data table notebook</a>'\n",
              "          + ' to learn more about interactive tables.';\n",
              "        element.innerHTML = '';\n",
              "        dataTable['output_type'] = 'display_data';\n",
              "        await google.colab.output.renderOutput(dataTable, element);\n",
              "        const docLink = document.createElement('div');\n",
              "        docLink.innerHTML = docLinkHtml;\n",
              "        element.appendChild(docLink);\n",
              "      }\n",
              "    </script>\n",
              "  </div>\n",
              "\n",
              "\n",
              "    <div id=\"df-e918b4c9-1d7a-49ba-b394-dbea8cf3ff3f\">\n",
              "      <button class=\"colab-df-quickchart\" onclick=\"quickchart('df-e918b4c9-1d7a-49ba-b394-dbea8cf3ff3f')\"\n",
              "                title=\"Suggest charts\"\n",
              "                style=\"display:none;\">\n",
              "\n",
              "<svg xmlns=\"http://www.w3.org/2000/svg\" height=\"24px\"viewBox=\"0 0 24 24\"\n",
              "     width=\"24px\">\n",
              "    <g>\n",
              "        <path d=\"M19 3H5c-1.1 0-2 .9-2 2v14c0 1.1.9 2 2 2h14c1.1 0 2-.9 2-2V5c0-1.1-.9-2-2-2zM9 17H7v-7h2v7zm4 0h-2V7h2v10zm4 0h-2v-4h2v4z\"/>\n",
              "    </g>\n",
              "</svg>\n",
              "      </button>\n",
              "\n",
              "<style>\n",
              "  .colab-df-quickchart {\n",
              "      --bg-color: #E8F0FE;\n",
              "      --fill-color: #1967D2;\n",
              "      --hover-bg-color: #E2EBFA;\n",
              "      --hover-fill-color: #174EA6;\n",
              "      --disabled-fill-color: #AAA;\n",
              "      --disabled-bg-color: #DDD;\n",
              "  }\n",
              "\n",
              "  [theme=dark] .colab-df-quickchart {\n",
              "      --bg-color: #3B4455;\n",
              "      --fill-color: #D2E3FC;\n",
              "      --hover-bg-color: #434B5C;\n",
              "      --hover-fill-color: #FFFFFF;\n",
              "      --disabled-bg-color: #3B4455;\n",
              "      --disabled-fill-color: #666;\n",
              "  }\n",
              "\n",
              "  .colab-df-quickchart {\n",
              "    background-color: var(--bg-color);\n",
              "    border: none;\n",
              "    border-radius: 50%;\n",
              "    cursor: pointer;\n",
              "    display: none;\n",
              "    fill: var(--fill-color);\n",
              "    height: 32px;\n",
              "    padding: 0;\n",
              "    width: 32px;\n",
              "  }\n",
              "\n",
              "  .colab-df-quickchart:hover {\n",
              "    background-color: var(--hover-bg-color);\n",
              "    box-shadow: 0 1px 2px rgba(60, 64, 67, 0.3), 0 1px 3px 1px rgba(60, 64, 67, 0.15);\n",
              "    fill: var(--button-hover-fill-color);\n",
              "  }\n",
              "\n",
              "  .colab-df-quickchart-complete:disabled,\n",
              "  .colab-df-quickchart-complete:disabled:hover {\n",
              "    background-color: var(--disabled-bg-color);\n",
              "    fill: var(--disabled-fill-color);\n",
              "    box-shadow: none;\n",
              "  }\n",
              "\n",
              "  .colab-df-spinner {\n",
              "    border: 2px solid var(--fill-color);\n",
              "    border-color: transparent;\n",
              "    border-bottom-color: var(--fill-color);\n",
              "    animation:\n",
              "      spin 1s steps(1) infinite;\n",
              "  }\n",
              "\n",
              "  @keyframes spin {\n",
              "    0% {\n",
              "      border-color: transparent;\n",
              "      border-bottom-color: var(--fill-color);\n",
              "      border-left-color: var(--fill-color);\n",
              "    }\n",
              "    20% {\n",
              "      border-color: transparent;\n",
              "      border-left-color: var(--fill-color);\n",
              "      border-top-color: var(--fill-color);\n",
              "    }\n",
              "    30% {\n",
              "      border-color: transparent;\n",
              "      border-left-color: var(--fill-color);\n",
              "      border-top-color: var(--fill-color);\n",
              "      border-right-color: var(--fill-color);\n",
              "    }\n",
              "    40% {\n",
              "      border-color: transparent;\n",
              "      border-right-color: var(--fill-color);\n",
              "      border-top-color: var(--fill-color);\n",
              "    }\n",
              "    60% {\n",
              "      border-color: transparent;\n",
              "      border-right-color: var(--fill-color);\n",
              "    }\n",
              "    80% {\n",
              "      border-color: transparent;\n",
              "      border-right-color: var(--fill-color);\n",
              "      border-bottom-color: var(--fill-color);\n",
              "    }\n",
              "    90% {\n",
              "      border-color: transparent;\n",
              "      border-bottom-color: var(--fill-color);\n",
              "    }\n",
              "  }\n",
              "</style>\n",
              "\n",
              "      <script>\n",
              "        async function quickchart(key) {\n",
              "          const quickchartButtonEl =\n",
              "            document.querySelector('#' + key + ' button');\n",
              "          quickchartButtonEl.disabled = true;  // To prevent multiple clicks.\n",
              "          quickchartButtonEl.classList.add('colab-df-spinner');\n",
              "          try {\n",
              "            const charts = await google.colab.kernel.invokeFunction(\n",
              "                'suggestCharts', [key], {});\n",
              "          } catch (error) {\n",
              "            console.error('Error during call to suggestCharts:', error);\n",
              "          }\n",
              "          quickchartButtonEl.classList.remove('colab-df-spinner');\n",
              "          quickchartButtonEl.classList.add('colab-df-quickchart-complete');\n",
              "        }\n",
              "        (() => {\n",
              "          let quickchartButtonEl =\n",
              "            document.querySelector('#df-e918b4c9-1d7a-49ba-b394-dbea8cf3ff3f button');\n",
              "          quickchartButtonEl.style.display =\n",
              "            google.colab.kernel.accessAllowed ? 'block' : 'none';\n",
              "        })();\n",
              "      </script>\n",
              "    </div>\n",
              "\n",
              "    </div>\n",
              "  </div>\n"
            ],
            "application/vnd.google.colaboratory.intrinsic+json": {
              "type": "dataframe",
              "variable_name": "data"
            }
          },
          "metadata": {},
          "execution_count": 3
        }
      ]
    },
    {
      "cell_type": "code",
      "source": [
        "data.info()"
      ],
      "metadata": {
        "colab": {
          "base_uri": "https://localhost:8080/"
        },
        "id": "dlkhdcfo2jr-",
        "outputId": "9fc6df6b-a926-4c93-b80b-947fe0b0f64a"
      },
      "execution_count": 4,
      "outputs": [
        {
          "output_type": "stream",
          "name": "stdout",
          "text": [
            "<class 'pandas.core.frame.DataFrame'>\n",
            "RangeIndex: 100 entries, 0 to 99\n",
            "Data columns (total 21 columns):\n",
            " #   Column                       Non-Null Count  Dtype  \n",
            "---  ------                       --------------  -----  \n",
            " 0   startup_name                 100 non-null    object \n",
            " 1   founded_year                 100 non-null    object \n",
            " 2   city                         100 non-null    object \n",
            " 3   industry                     100 non-null    object \n",
            " 4   has_online_presence          100 non-null    int64  \n",
            " 5   num_founders                 100 non-null    object \n",
            " 6   num_employees                100 non-null    object \n",
            " 7   initial_funding              100 non-null    object \n",
            " 8   got_external_funding         100 non-null    object \n",
            " 9   startup_stage                100 non-null    object \n",
            " 10  founder_age                  100 non-null    object \n",
            " 11  founder_education            100 non-null    object \n",
            " 12  previous_startup_experience  80 non-null     object \n",
            " 13  founder_experience_years     80 non-null     object \n",
            " 14  market_competition_level     80 non-null     object \n",
            " 15  incubator_support            80 non-null     float64\n",
            " 16  num_direct_competitors       80 non-null     object \n",
            " 17  market_need_level            80 non-null     object \n",
            " 18  is_successful                80 non-null     object \n",
            " 19  years_to_failure             80 non-null     object \n",
            " 20  made_profit_in_3y            80 non-null     object \n",
            "dtypes: float64(1), int64(1), object(19)\n",
            "memory usage: 16.5+ KB\n"
          ]
        }
      ]
    },
    {
      "cell_type": "code",
      "source": [
        "data.shape"
      ],
      "metadata": {
        "colab": {
          "base_uri": "https://localhost:8080/"
        },
        "id": "ujRNAlwj28MR",
        "outputId": "9b17f7e0-7c02-4c38-b0e0-3ab31a2a56cc"
      },
      "execution_count": 5,
      "outputs": [
        {
          "output_type": "execute_result",
          "data": {
            "text/plain": [
              "(100, 21)"
            ]
          },
          "metadata": {},
          "execution_count": 5
        }
      ]
    },
    {
      "cell_type": "code",
      "source": [
        "# prompt: write a python code that make augmentation for the 100 row of this dataset convert it to 500 rows\n",
        "\n",
        "# Assuming 'data' is your pandas DataFrame loaded from the Excel file\n",
        "# Let's focus on augmenting the first 100 rows to generate 400 new rows (100 + 400 = 500 total)\n",
        "\n",
        "# Select the first 100 rows\n",
        "rows_to_augment = data.head(100).copy()\n",
        "\n",
        "# Function to perform simple augmentation\n",
        "# This is a placeholder function. You should customize this based on your data and the type of augmentation needed.\n",
        "# For numerical columns, you could add small random noise.\n",
        "# For categorical columns, you could randomly swap values or duplicate rows.\n",
        "# This example just duplicates rows with some random value addition for simplicity on numerical columns.\n",
        "def augment_row(row):\n",
        "  new_row = row.copy()\n",
        "  # Example: Add small random noise to numerical columns\n",
        "  for col in new_row.index:\n",
        "    # Check if the value is numeric before attempting augmentation\n",
        "    if pd.api.types.is_numeric_dtype(new_row[col]):\n",
        "        try:\n",
        "            # Convert to numeric, coercing errors to NaN\n",
        "            numeric_value = pd.to_numeric(new_row[col], errors='coerce')\n",
        "            if not pd.isna(numeric_value):\n",
        "                new_row[col] = numeric_value + np.random.normal(0, abs(numeric_value)*0.05) # Add up to 5% random noise\n",
        "        except:\n",
        "            # If conversion fails or any other error occurs, skip augmentation for this value\n",
        "            pass\n",
        "  return new_row\n",
        "\n",
        "augmented_rows_list = []\n",
        "\n",
        "# Augment each of the first 100 rows multiple times to reach the target of 500 rows.\n",
        "# We need 400 additional rows. We'll augment each of the initial 100 rows 4 times.\n",
        "num_augmentations_per_row = 4\n",
        "\n",
        "for index, row in rows_to_augment.iterrows():\n",
        "  for _ in range(num_augmentations_per_row):\n",
        "    augmented_row_data = augment_row(row)\n",
        "    augmented_rows_list.append(augmented_row_data)\n",
        "\n",
        "# Create a DataFrame from the augmented rows\n",
        "augmented_data_df = pd.DataFrame(augmented_rows_list)\n",
        "\n",
        "# Combine the original data with the augmented data\n",
        "# We only need the original rows that were not augmented (from row 101 onwards)\n",
        "remaining_original_data = data.iloc[100:].copy()\n",
        "\n",
        "# Concatenate the augmented data with the remaining original data\n",
        "# Reset the index of the augmented data to avoid duplicate index values\n",
        "augmented_data_df = augmented_data_df.reset_index(drop=True)\n",
        "\n",
        "# Combine the original 100 rows, the remaining original rows, and the augmented rows\n",
        "# This approach keeps the first 100 original rows and adds the 400 augmented rows,\n",
        "# and also keeps any original rows beyond the first 100.\n",
        "# To get exactly 500 rows (100 original + 400 augmented), we should just combine\n",
        "# the original first 100 rows with the augmented data.\n",
        "\n",
        "combined_data = pd.concat([rows_to_augment, augmented_data_df], ignore_index=True)\n",
        "\n",
        "print(\"Original number of rows:\", data.shape[0])\n",
        "print(\"Number of rows after augmentation:\", combined_data.shape[0])\n",
        "print(combined_data.head())\n",
        "print(combined_data.tail())"
      ],
      "metadata": {
        "colab": {
          "base_uri": "https://localhost:8080/"
        },
        "id": "x7IZBk2Z3PRw",
        "outputId": "b4b3e06b-c40e-4954-9ef4-d9bebbb15e32"
      },
      "execution_count": 6,
      "outputs": [
        {
          "output_type": "stream",
          "name": "stdout",
          "text": [
            "Original number of rows: 100\n",
            "Number of rows after augmentation: 500\n",
            "  startup_name founded_year   city        industry  has_online_presence  \\\n",
            "0    MNT-Halan         2017  Cairo         Fintech                    1   \n",
            "1       Paymob         2015  Cairo         Fintech                    1   \n",
            "2        Bosta        2017?  Cairo       Logistics                    1   \n",
            "3         Swvl         2017  Cairo  Transportation                    1   \n",
            "4    Breadfast         2017  Cairo        F&B/Ecom                    1   \n",
            "\n",
            "  num_founders num_employees initial_funding got_external_funding  \\\n",
            "0            3          500+        30e3 USD                    1   \n",
            "1            3          200+               —                    1   \n",
            "2            2          300+               —                    1   \n",
            "3            3           600        30e3 USD                    1   \n",
            "4            3          150+               —                    1   \n",
            "\n",
            "  startup_stage  ... founder_education previous_startup_experience  \\\n",
            "0        Market  ...                 —                           —   \n",
            "1        Market  ...                 —                           —   \n",
            "2        Market  ...                 —                           —   \n",
            "3        Market  ...                 —                           —   \n",
            "4        Market  ...                 —                           —   \n",
            "\n",
            "  founder_experience_years market_competition_level incubator_support  \\\n",
            "0                        —                     High               1.0   \n",
            "1                        —                     High               1.0   \n",
            "2                        —                     High               1.0   \n",
            "3                        —                     High               1.0   \n",
            "4                        —                   Medium               1.0   \n",
            "\n",
            "   num_direct_competitors market_need_level is_successful years_to_failure  \\\n",
            "0                    Many            Strong             1                —   \n",
            "1                    Many            Strong             1                —   \n",
            "2                    Many            Strong             1                —   \n",
            "3                    Many            Strong             1                —   \n",
            "4                    Many            Strong             1                —   \n",
            "\n",
            "  made_profit_in_3y  \n",
            "0                 1  \n",
            "1                 1  \n",
            "2                 1  \n",
            "3                 1  \n",
            "4                 1  \n",
            "\n",
            "[5 rows x 21 columns]\n",
            "    startup_name founded_year    city            industry  \\\n",
            "495      Breadtv         2019  online     Video Streaming   \n",
            "496    GrocersAI         2020  online  Grocery Automation   \n",
            "497    GrocersAI         2020  online  Grocery Automation   \n",
            "498    GrocersAI         2020  online  Grocery Automation   \n",
            "499    GrocersAI         2020  online  Grocery Automation   \n",
            "\n",
            "     has_online_presence num_founders num_employees initial_funding  \\\n",
            "495                    1            3           ~10               —   \n",
            "496                    1            2           ~10               —   \n",
            "497                    1            2           ~10               —   \n",
            "498                    1            2           ~10               —   \n",
            "499                    1            2           ~10               —   \n",
            "\n",
            "    got_external_funding startup_stage  ... founder_education  \\\n",
            "495                    0       Concept  ...                 —   \n",
            "496                    0       Concept  ...                 —   \n",
            "497                    0       Concept  ...                 —   \n",
            "498                    0       Concept  ...                 —   \n",
            "499                    0       Concept  ...                 —   \n",
            "\n",
            "    previous_startup_experience founder_experience_years  \\\n",
            "495                           0                        —   \n",
            "496                           0                        —   \n",
            "497                           0                        —   \n",
            "498                           0                        —   \n",
            "499                           0                        —   \n",
            "\n",
            "    market_competition_level incubator_support  num_direct_competitors  \\\n",
            "495                   Medium               0.0                     Few   \n",
            "496                   Medium               0.0                     Few   \n",
            "497                   Medium               0.0                     Few   \n",
            "498                   Medium               0.0                     Few   \n",
            "499                   Medium               0.0                     Few   \n",
            "\n",
            "    market_need_level is_successful years_to_failure made_profit_in_3y  \n",
            "495            Medium             0              0.6                 0  \n",
            "496            Medium             0              0.5                 0  \n",
            "497            Medium             0              0.5                 0  \n",
            "498            Medium             0              0.5                 0  \n",
            "499            Medium             0              0.5                 0  \n",
            "\n",
            "[5 rows x 21 columns]\n"
          ]
        }
      ]
    },
    {
      "cell_type": "code",
      "source": [
        "# prompt: download the augmented dataset genetared before in csv file called 'augmented_dataset'\n",
        "\n",
        "from google.colab import files\n",
        "\n",
        "# Save the augmented dataframe to a CSV file\n",
        "combined_data.to_csv('augmented_dataset.csv', index=False)\n",
        "\n",
        "# Download the CSV file\n",
        "files.download('augmented_dataset.csv')"
      ],
      "metadata": {
        "colab": {
          "base_uri": "https://localhost:8080/",
          "height": 17
        },
        "id": "p3M8qVJv4hiB",
        "outputId": "8f0a75f0-0030-415b-f3a6-9d282e590b2f"
      },
      "execution_count": 7,
      "outputs": [
        {
          "output_type": "display_data",
          "data": {
            "text/plain": [
              "<IPython.core.display.Javascript object>"
            ],
            "application/javascript": [
              "\n",
              "    async function download(id, filename, size) {\n",
              "      if (!google.colab.kernel.accessAllowed) {\n",
              "        return;\n",
              "      }\n",
              "      const div = document.createElement('div');\n",
              "      const label = document.createElement('label');\n",
              "      label.textContent = `Downloading \"${filename}\": `;\n",
              "      div.appendChild(label);\n",
              "      const progress = document.createElement('progress');\n",
              "      progress.max = size;\n",
              "      div.appendChild(progress);\n",
              "      document.body.appendChild(div);\n",
              "\n",
              "      const buffers = [];\n",
              "      let downloaded = 0;\n",
              "\n",
              "      const channel = await google.colab.kernel.comms.open(id);\n",
              "      // Send a message to notify the kernel that we're ready.\n",
              "      channel.send({})\n",
              "\n",
              "      for await (const message of channel.messages) {\n",
              "        // Send a message to notify the kernel that we're ready.\n",
              "        channel.send({})\n",
              "        if (message.buffers) {\n",
              "          for (const buffer of message.buffers) {\n",
              "            buffers.push(buffer);\n",
              "            downloaded += buffer.byteLength;\n",
              "            progress.value = downloaded;\n",
              "          }\n",
              "        }\n",
              "      }\n",
              "      const blob = new Blob(buffers, {type: 'application/binary'});\n",
              "      const a = document.createElement('a');\n",
              "      a.href = window.URL.createObjectURL(blob);\n",
              "      a.download = filename;\n",
              "      div.appendChild(a);\n",
              "      a.click();\n",
              "      div.remove();\n",
              "    }\n",
              "  "
            ]
          },
          "metadata": {}
        },
        {
          "output_type": "display_data",
          "data": {
            "text/plain": [
              "<IPython.core.display.Javascript object>"
            ],
            "application/javascript": [
              "download(\"download_50f06c90-5d36-4c3f-88eb-92f3cae0b9f9\", \"augmented_dataset.csv\", 49684)"
            ]
          },
          "metadata": {}
        }
      ]
    },
    {
      "cell_type": "markdown",
      "source": [
        "***Data Preprocessing***"
      ],
      "metadata": {
        "id": "P5nOWB9VQ2Vy"
      }
    },
    {
      "cell_type": "code",
      "source": [
        "df = pd.read_csv('/content/augmented_dataset.csv')"
      ],
      "metadata": {
        "id": "EMfnVEOE5txs"
      },
      "execution_count": 52,
      "outputs": []
    },
    {
      "cell_type": "code",
      "source": [
        "df.head()"
      ],
      "metadata": {
        "colab": {
          "base_uri": "https://localhost:8080/",
          "height": 256
        },
        "id": "TQpQLIJ85uG7",
        "outputId": "849573af-2b44-4485-a67e-c11f8b2a714a"
      },
      "execution_count": 53,
      "outputs": [
        {
          "output_type": "execute_result",
          "data": {
            "text/plain": [
              "  startup_name founded_year   city        industry  has_online_presence  \\\n",
              "0    MNT-Halan         2017  Cairo         Fintech                    1   \n",
              "1       Paymob         2015  Cairo         Fintech                    1   \n",
              "2        Bosta        2017?  Cairo       Logistics                    1   \n",
              "3         Swvl         2017  Cairo  Transportation                    1   \n",
              "4    Breadfast         2017  Cairo        F&B/Ecom                    1   \n",
              "\n",
              "  num_founders num_employees initial_funding got_external_funding  \\\n",
              "0            3          500+        30e3 USD                    1   \n",
              "1            3          200+               —                    1   \n",
              "2            2          300+               —                    1   \n",
              "3            3           600        30e3 USD                    1   \n",
              "4            3          150+               —                    1   \n",
              "\n",
              "  startup_stage  ... founder_education previous_startup_experience  \\\n",
              "0        Market  ...                 —                           —   \n",
              "1        Market  ...                 —                           —   \n",
              "2        Market  ...                 —                           —   \n",
              "3        Market  ...                 —                           —   \n",
              "4        Market  ...                 —                           —   \n",
              "\n",
              "  founder_experience_years market_competition_level incubator_support  \\\n",
              "0                        —                     High               1.0   \n",
              "1                        —                     High               1.0   \n",
              "2                        —                     High               1.0   \n",
              "3                        —                     High               1.0   \n",
              "4                        —                   Medium               1.0   \n",
              "\n",
              "   num_direct_competitors market_need_level is_successful years_to_failure  \\\n",
              "0                    Many            Strong             1                —   \n",
              "1                    Many            Strong             1                —   \n",
              "2                    Many            Strong             1                —   \n",
              "3                    Many            Strong             1                —   \n",
              "4                    Many            Strong             1                —   \n",
              "\n",
              "  made_profit_in_3y  \n",
              "0                 1  \n",
              "1                 1  \n",
              "2                 1  \n",
              "3                 1  \n",
              "4                 1  \n",
              "\n",
              "[5 rows x 21 columns]"
            ],
            "text/html": [
              "\n",
              "  <div id=\"df-1e6e9646-17f0-4ffd-84f8-9ae7c1a9b5ec\" class=\"colab-df-container\">\n",
              "    <div>\n",
              "<style scoped>\n",
              "    .dataframe tbody tr th:only-of-type {\n",
              "        vertical-align: middle;\n",
              "    }\n",
              "\n",
              "    .dataframe tbody tr th {\n",
              "        vertical-align: top;\n",
              "    }\n",
              "\n",
              "    .dataframe thead th {\n",
              "        text-align: right;\n",
              "    }\n",
              "</style>\n",
              "<table border=\"1\" class=\"dataframe\">\n",
              "  <thead>\n",
              "    <tr style=\"text-align: right;\">\n",
              "      <th></th>\n",
              "      <th>startup_name</th>\n",
              "      <th>founded_year</th>\n",
              "      <th>city</th>\n",
              "      <th>industry</th>\n",
              "      <th>has_online_presence</th>\n",
              "      <th>num_founders</th>\n",
              "      <th>num_employees</th>\n",
              "      <th>initial_funding</th>\n",
              "      <th>got_external_funding</th>\n",
              "      <th>startup_stage</th>\n",
              "      <th>...</th>\n",
              "      <th>founder_education</th>\n",
              "      <th>previous_startup_experience</th>\n",
              "      <th>founder_experience_years</th>\n",
              "      <th>market_competition_level</th>\n",
              "      <th>incubator_support</th>\n",
              "      <th>num_direct_competitors</th>\n",
              "      <th>market_need_level</th>\n",
              "      <th>is_successful</th>\n",
              "      <th>years_to_failure</th>\n",
              "      <th>made_profit_in_3y</th>\n",
              "    </tr>\n",
              "  </thead>\n",
              "  <tbody>\n",
              "    <tr>\n",
              "      <th>0</th>\n",
              "      <td>MNT-Halan</td>\n",
              "      <td>2017</td>\n",
              "      <td>Cairo</td>\n",
              "      <td>Fintech</td>\n",
              "      <td>1</td>\n",
              "      <td>3</td>\n",
              "      <td>500+</td>\n",
              "      <td>30e3 USD</td>\n",
              "      <td>1</td>\n",
              "      <td>Market</td>\n",
              "      <td>...</td>\n",
              "      <td>—</td>\n",
              "      <td>—</td>\n",
              "      <td>—</td>\n",
              "      <td>High</td>\n",
              "      <td>1.0</td>\n",
              "      <td>Many</td>\n",
              "      <td>Strong</td>\n",
              "      <td>1</td>\n",
              "      <td>—</td>\n",
              "      <td>1</td>\n",
              "    </tr>\n",
              "    <tr>\n",
              "      <th>1</th>\n",
              "      <td>Paymob</td>\n",
              "      <td>2015</td>\n",
              "      <td>Cairo</td>\n",
              "      <td>Fintech</td>\n",
              "      <td>1</td>\n",
              "      <td>3</td>\n",
              "      <td>200+</td>\n",
              "      <td>—</td>\n",
              "      <td>1</td>\n",
              "      <td>Market</td>\n",
              "      <td>...</td>\n",
              "      <td>—</td>\n",
              "      <td>—</td>\n",
              "      <td>—</td>\n",
              "      <td>High</td>\n",
              "      <td>1.0</td>\n",
              "      <td>Many</td>\n",
              "      <td>Strong</td>\n",
              "      <td>1</td>\n",
              "      <td>—</td>\n",
              "      <td>1</td>\n",
              "    </tr>\n",
              "    <tr>\n",
              "      <th>2</th>\n",
              "      <td>Bosta</td>\n",
              "      <td>2017?</td>\n",
              "      <td>Cairo</td>\n",
              "      <td>Logistics</td>\n",
              "      <td>1</td>\n",
              "      <td>2</td>\n",
              "      <td>300+</td>\n",
              "      <td>—</td>\n",
              "      <td>1</td>\n",
              "      <td>Market</td>\n",
              "      <td>...</td>\n",
              "      <td>—</td>\n",
              "      <td>—</td>\n",
              "      <td>—</td>\n",
              "      <td>High</td>\n",
              "      <td>1.0</td>\n",
              "      <td>Many</td>\n",
              "      <td>Strong</td>\n",
              "      <td>1</td>\n",
              "      <td>—</td>\n",
              "      <td>1</td>\n",
              "    </tr>\n",
              "    <tr>\n",
              "      <th>3</th>\n",
              "      <td>Swvl</td>\n",
              "      <td>2017</td>\n",
              "      <td>Cairo</td>\n",
              "      <td>Transportation</td>\n",
              "      <td>1</td>\n",
              "      <td>3</td>\n",
              "      <td>600</td>\n",
              "      <td>30e3 USD</td>\n",
              "      <td>1</td>\n",
              "      <td>Market</td>\n",
              "      <td>...</td>\n",
              "      <td>—</td>\n",
              "      <td>—</td>\n",
              "      <td>—</td>\n",
              "      <td>High</td>\n",
              "      <td>1.0</td>\n",
              "      <td>Many</td>\n",
              "      <td>Strong</td>\n",
              "      <td>1</td>\n",
              "      <td>—</td>\n",
              "      <td>1</td>\n",
              "    </tr>\n",
              "    <tr>\n",
              "      <th>4</th>\n",
              "      <td>Breadfast</td>\n",
              "      <td>2017</td>\n",
              "      <td>Cairo</td>\n",
              "      <td>F&amp;B/Ecom</td>\n",
              "      <td>1</td>\n",
              "      <td>3</td>\n",
              "      <td>150+</td>\n",
              "      <td>—</td>\n",
              "      <td>1</td>\n",
              "      <td>Market</td>\n",
              "      <td>...</td>\n",
              "      <td>—</td>\n",
              "      <td>—</td>\n",
              "      <td>—</td>\n",
              "      <td>Medium</td>\n",
              "      <td>1.0</td>\n",
              "      <td>Many</td>\n",
              "      <td>Strong</td>\n",
              "      <td>1</td>\n",
              "      <td>—</td>\n",
              "      <td>1</td>\n",
              "    </tr>\n",
              "  </tbody>\n",
              "</table>\n",
              "<p>5 rows × 21 columns</p>\n",
              "</div>\n",
              "    <div class=\"colab-df-buttons\">\n",
              "\n",
              "  <div class=\"colab-df-container\">\n",
              "    <button class=\"colab-df-convert\" onclick=\"convertToInteractive('df-1e6e9646-17f0-4ffd-84f8-9ae7c1a9b5ec')\"\n",
              "            title=\"Convert this dataframe to an interactive table.\"\n",
              "            style=\"display:none;\">\n",
              "\n",
              "  <svg xmlns=\"http://www.w3.org/2000/svg\" height=\"24px\" viewBox=\"0 -960 960 960\">\n",
              "    <path d=\"M120-120v-720h720v720H120Zm60-500h600v-160H180v160Zm220 220h160v-160H400v160Zm0 220h160v-160H400v160ZM180-400h160v-160H180v160Zm440 0h160v-160H620v160ZM180-180h160v-160H180v160Zm440 0h160v-160H620v160Z\"/>\n",
              "  </svg>\n",
              "    </button>\n",
              "\n",
              "  <style>\n",
              "    .colab-df-container {\n",
              "      display:flex;\n",
              "      gap: 12px;\n",
              "    }\n",
              "\n",
              "    .colab-df-convert {\n",
              "      background-color: #E8F0FE;\n",
              "      border: none;\n",
              "      border-radius: 50%;\n",
              "      cursor: pointer;\n",
              "      display: none;\n",
              "      fill: #1967D2;\n",
              "      height: 32px;\n",
              "      padding: 0 0 0 0;\n",
              "      width: 32px;\n",
              "    }\n",
              "\n",
              "    .colab-df-convert:hover {\n",
              "      background-color: #E2EBFA;\n",
              "      box-shadow: 0px 1px 2px rgba(60, 64, 67, 0.3), 0px 1px 3px 1px rgba(60, 64, 67, 0.15);\n",
              "      fill: #174EA6;\n",
              "    }\n",
              "\n",
              "    .colab-df-buttons div {\n",
              "      margin-bottom: 4px;\n",
              "    }\n",
              "\n",
              "    [theme=dark] .colab-df-convert {\n",
              "      background-color: #3B4455;\n",
              "      fill: #D2E3FC;\n",
              "    }\n",
              "\n",
              "    [theme=dark] .colab-df-convert:hover {\n",
              "      background-color: #434B5C;\n",
              "      box-shadow: 0px 1px 3px 1px rgba(0, 0, 0, 0.15);\n",
              "      filter: drop-shadow(0px 1px 2px rgba(0, 0, 0, 0.3));\n",
              "      fill: #FFFFFF;\n",
              "    }\n",
              "  </style>\n",
              "\n",
              "    <script>\n",
              "      const buttonEl =\n",
              "        document.querySelector('#df-1e6e9646-17f0-4ffd-84f8-9ae7c1a9b5ec button.colab-df-convert');\n",
              "      buttonEl.style.display =\n",
              "        google.colab.kernel.accessAllowed ? 'block' : 'none';\n",
              "\n",
              "      async function convertToInteractive(key) {\n",
              "        const element = document.querySelector('#df-1e6e9646-17f0-4ffd-84f8-9ae7c1a9b5ec');\n",
              "        const dataTable =\n",
              "          await google.colab.kernel.invokeFunction('convertToInteractive',\n",
              "                                                    [key], {});\n",
              "        if (!dataTable) return;\n",
              "\n",
              "        const docLinkHtml = 'Like what you see? Visit the ' +\n",
              "          '<a target=\"_blank\" href=https://colab.research.google.com/notebooks/data_table.ipynb>data table notebook</a>'\n",
              "          + ' to learn more about interactive tables.';\n",
              "        element.innerHTML = '';\n",
              "        dataTable['output_type'] = 'display_data';\n",
              "        await google.colab.output.renderOutput(dataTable, element);\n",
              "        const docLink = document.createElement('div');\n",
              "        docLink.innerHTML = docLinkHtml;\n",
              "        element.appendChild(docLink);\n",
              "      }\n",
              "    </script>\n",
              "  </div>\n",
              "\n",
              "\n",
              "    <div id=\"df-10b722df-ab3b-428b-ac4a-c12c6eeeca79\">\n",
              "      <button class=\"colab-df-quickchart\" onclick=\"quickchart('df-10b722df-ab3b-428b-ac4a-c12c6eeeca79')\"\n",
              "                title=\"Suggest charts\"\n",
              "                style=\"display:none;\">\n",
              "\n",
              "<svg xmlns=\"http://www.w3.org/2000/svg\" height=\"24px\"viewBox=\"0 0 24 24\"\n",
              "     width=\"24px\">\n",
              "    <g>\n",
              "        <path d=\"M19 3H5c-1.1 0-2 .9-2 2v14c0 1.1.9 2 2 2h14c1.1 0 2-.9 2-2V5c0-1.1-.9-2-2-2zM9 17H7v-7h2v7zm4 0h-2V7h2v10zm4 0h-2v-4h2v4z\"/>\n",
              "    </g>\n",
              "</svg>\n",
              "      </button>\n",
              "\n",
              "<style>\n",
              "  .colab-df-quickchart {\n",
              "      --bg-color: #E8F0FE;\n",
              "      --fill-color: #1967D2;\n",
              "      --hover-bg-color: #E2EBFA;\n",
              "      --hover-fill-color: #174EA6;\n",
              "      --disabled-fill-color: #AAA;\n",
              "      --disabled-bg-color: #DDD;\n",
              "  }\n",
              "\n",
              "  [theme=dark] .colab-df-quickchart {\n",
              "      --bg-color: #3B4455;\n",
              "      --fill-color: #D2E3FC;\n",
              "      --hover-bg-color: #434B5C;\n",
              "      --hover-fill-color: #FFFFFF;\n",
              "      --disabled-bg-color: #3B4455;\n",
              "      --disabled-fill-color: #666;\n",
              "  }\n",
              "\n",
              "  .colab-df-quickchart {\n",
              "    background-color: var(--bg-color);\n",
              "    border: none;\n",
              "    border-radius: 50%;\n",
              "    cursor: pointer;\n",
              "    display: none;\n",
              "    fill: var(--fill-color);\n",
              "    height: 32px;\n",
              "    padding: 0;\n",
              "    width: 32px;\n",
              "  }\n",
              "\n",
              "  .colab-df-quickchart:hover {\n",
              "    background-color: var(--hover-bg-color);\n",
              "    box-shadow: 0 1px 2px rgba(60, 64, 67, 0.3), 0 1px 3px 1px rgba(60, 64, 67, 0.15);\n",
              "    fill: var(--button-hover-fill-color);\n",
              "  }\n",
              "\n",
              "  .colab-df-quickchart-complete:disabled,\n",
              "  .colab-df-quickchart-complete:disabled:hover {\n",
              "    background-color: var(--disabled-bg-color);\n",
              "    fill: var(--disabled-fill-color);\n",
              "    box-shadow: none;\n",
              "  }\n",
              "\n",
              "  .colab-df-spinner {\n",
              "    border: 2px solid var(--fill-color);\n",
              "    border-color: transparent;\n",
              "    border-bottom-color: var(--fill-color);\n",
              "    animation:\n",
              "      spin 1s steps(1) infinite;\n",
              "  }\n",
              "\n",
              "  @keyframes spin {\n",
              "    0% {\n",
              "      border-color: transparent;\n",
              "      border-bottom-color: var(--fill-color);\n",
              "      border-left-color: var(--fill-color);\n",
              "    }\n",
              "    20% {\n",
              "      border-color: transparent;\n",
              "      border-left-color: var(--fill-color);\n",
              "      border-top-color: var(--fill-color);\n",
              "    }\n",
              "    30% {\n",
              "      border-color: transparent;\n",
              "      border-left-color: var(--fill-color);\n",
              "      border-top-color: var(--fill-color);\n",
              "      border-right-color: var(--fill-color);\n",
              "    }\n",
              "    40% {\n",
              "      border-color: transparent;\n",
              "      border-right-color: var(--fill-color);\n",
              "      border-top-color: var(--fill-color);\n",
              "    }\n",
              "    60% {\n",
              "      border-color: transparent;\n",
              "      border-right-color: var(--fill-color);\n",
              "    }\n",
              "    80% {\n",
              "      border-color: transparent;\n",
              "      border-right-color: var(--fill-color);\n",
              "      border-bottom-color: var(--fill-color);\n",
              "    }\n",
              "    90% {\n",
              "      border-color: transparent;\n",
              "      border-bottom-color: var(--fill-color);\n",
              "    }\n",
              "  }\n",
              "</style>\n",
              "\n",
              "      <script>\n",
              "        async function quickchart(key) {\n",
              "          const quickchartButtonEl =\n",
              "            document.querySelector('#' + key + ' button');\n",
              "          quickchartButtonEl.disabled = true;  // To prevent multiple clicks.\n",
              "          quickchartButtonEl.classList.add('colab-df-spinner');\n",
              "          try {\n",
              "            const charts = await google.colab.kernel.invokeFunction(\n",
              "                'suggestCharts', [key], {});\n",
              "          } catch (error) {\n",
              "            console.error('Error during call to suggestCharts:', error);\n",
              "          }\n",
              "          quickchartButtonEl.classList.remove('colab-df-spinner');\n",
              "          quickchartButtonEl.classList.add('colab-df-quickchart-complete');\n",
              "        }\n",
              "        (() => {\n",
              "          let quickchartButtonEl =\n",
              "            document.querySelector('#df-10b722df-ab3b-428b-ac4a-c12c6eeeca79 button');\n",
              "          quickchartButtonEl.style.display =\n",
              "            google.colab.kernel.accessAllowed ? 'block' : 'none';\n",
              "        })();\n",
              "      </script>\n",
              "    </div>\n",
              "\n",
              "    </div>\n",
              "  </div>\n"
            ],
            "application/vnd.google.colaboratory.intrinsic+json": {
              "type": "dataframe",
              "variable_name": "df"
            }
          },
          "metadata": {},
          "execution_count": 53
        }
      ]
    },
    {
      "cell_type": "code",
      "source": [
        "for col in df.columns:\n",
        "  print (col)\n",
        "  print(df[col].unique())\n",
        "  print (10*'-')"
      ],
      "metadata": {
        "colab": {
          "base_uri": "https://localhost:8080/"
        },
        "id": "_9mbSgJX5uXZ",
        "outputId": "0e3ef2a1-9c96-4630-b6ac-fab7b18deb87"
      },
      "execution_count": 54,
      "outputs": [
        {
          "output_type": "stream",
          "name": "stdout",
          "text": [
            "startup_name\n",
            "['MNT-Halan' 'Paymob' 'Bosta' 'Swvl' 'Breadfast' 'Paysky' 'Yaoota'\n",
            " 'CardoO' 'Visit Ventures' 'Widebot' 'Jarayed' 'Pluto' 'Brimore'\n",
            " 'La Reina' 'Milezmore' 'Capiter' 'Bkam' 'Sarcastech' 'Sico (Nile X)'\n",
            " 'Dawayer' 'Petroleum Air Services (P.A.S.)' 'Cook Door (branch)'\n",
            " 'Suez Canal Container Terminal'\n",
            " 'Port Said Chamber of Shipping initiative' 'Le Planneur'\n",
            " '(Hypothetical) Café X' '(Hypothetical) Delivery Y'\n",
            " '(Hypothetical) Co‑working Z' 'CanalEats' 'SinaiRoast' 'CanalCraft'\n",
            " 'AgroIsmailia' 'TechValley' 'ValleyTech' 'CraftSar' 'FoodHub'\n",
            " 'CanalTours' 'AgroFail' 'CanalShop' 'SuezTaste' 'MaritimeLog' 'SuezServ'\n",
            " 'PortTech' 'FoodCorner' 'SuezCoWork' 'CanalClean' 'Portaly' 'AgroSuez'\n",
            " 'DeltaFishTech' 'NileWoodCraft' 'DamiettaCakes' 'CanalFurniture'\n",
            " 'SeaShellGallery' 'DamiettaCafeX' 'FishDeliver' 'CraftFailed'\n",
            " 'DeltaAgroTech' 'NileFurnish' 'AsuitAgroTech' 'SohagSolar' 'LuxorCrafts'\n",
            " 'QenaFoodDelivery' 'AswanTours' 'MinyaTextiles' 'NileStone' 'AsyutCare'\n",
            " 'SohagEducate' 'LuxorGlassWorks' 'AsyutCafeX' 'SohagRide'\n",
            " 'LuxorPhotography' 'QenaFashion' 'AswanBikeShare' 'MinyaAgroStart'\n",
            " 'NileHomeServices' 'AsyutTutors' 'SohagCraftFail' 'LuxorFoodTruck'\n",
            " 'Chefaa' 'Elmenus' 'Orcas' 'GoodsMart' 'TelyPay' 'GBarena' 'WideBot'\n",
            " 'Mumm' 'Foorera' 'KarmSolar' 'ElCargo' 'Baraka' 'Akelnet' 'Hytch' 'Rawa7'\n",
            " 'Breadtv' 'GrocersAI']\n",
            "----------\n",
            "founded_year\n",
            "['2017' '2015' '2017?' '2014' '2018' '2019' '2016?' '2011' '2016' '2021'\n",
            " '2020' '2012' '2024' '1982' '1988' '2000' '2009' '1997']\n",
            "----------\n",
            "city\n",
            "['Cairo' 'Alexandria' 'Cairo/UK' 'Assiut' 'Port Said' 'Port Said?'\n",
            " 'Ismailia' 'Suez' 'Damietta' 'Asyut' 'Sohag' 'Luxor' 'Qena' 'Aswan'\n",
            " 'Minya' 'Aswin' 'online']\n",
            "----------\n",
            "industry\n",
            "['Fintech' 'Logistics' 'Transportation' 'F&B/Ecom' 'E‑commerce' 'IoT'\n",
            " 'Travel Tech' 'AI/NLP' 'Delivery' 'Co‑working' 'Social commerce'\n",
            " 'Logistics/Cloud' 'B2B e‑commerce' 'Price comparison'\n",
            " 'Entertainment Portal' 'Hardware/mobile' 'Arts & Culture' 'Aviation'\n",
            " 'Fast Food' 'Logistics/Port' 'Maritime services' 'Delivery (Print)'\n",
            " 'Events Management' 'Café / F&B' 'Food Delivery' 'Co‑working Space'\n",
            " 'Restaurant' 'Art & Crafts' 'Agri-business' 'Industrial Tech'\n",
            " 'Tech Valley' 'Handicrafts shop' 'Restaurant chain' 'Tourism services'\n",
            " 'E-commerce' 'Food & Beverage' 'Home Services' 'Co-working'\n",
            " 'Cleaning Service' 'Port Analytics' 'Aquaculture Tech'\n",
            " 'Wood Products Ecom' 'Bakery E‑Commerce' 'Furniture Export'\n",
            " 'Crafts/Gifts' 'Café / Bakery' 'Seafood Delivery' 'Woodcraft Shop'\n",
            " 'Agri-Tech' 'Furniture Retail' 'Agri‑Tech' 'Renewable Energy'\n",
            " 'Arts & Heritage Ecom' 'Tourism Services' 'Textile E‑commerce'\n",
            " 'Stone Export' 'Health Services' 'EdTech' 'Transport App'\n",
            " 'Tourism Photography' 'Fashion E‑commerce' 'Mobility' 'Agri‑business'\n",
            " 'Tutoring Services' 'Craft Shop' 'Food Truck' 'HealthTech' 'E‑grocery'\n",
            " 'FoodTech' 'FinTech' 'Gaming/Esports' 'Home‑cooked Meal' 'Carpooling App'\n",
            " 'Home‑meal Delivery' 'Solar Equipment' 'Logistics Platform'\n",
            " 'Ride‑hailing' 'Transport Platform' 'Video Streaming'\n",
            " 'Grocery Automation']\n",
            "----------\n",
            "has_online_presence\n",
            "[1 0]\n",
            "----------\n",
            "num_founders\n",
            "['3' '2' '1' '—' '4']\n",
            "----------\n",
            "num_employees\n",
            "['500+' '200+' '300+' '600' '150+' '40+' '—' '44' '~5' '~10' '~100' '~50'\n",
            " '~2000' '~20' '~44' '~3' '37+' '~20 per branch' '~~' '~4' '~8' '~15'\n",
            " '~30' '~12' '~6' '~35' '~25' '~7' '~120' '~80' '~60' '~150' '~40' '~45']\n",
            "----------\n",
            "initial_funding\n",
            "['30e3 USD' '—' '2.7\\u202fM USD' '660k USD' '3\\u202fM USD' '>$30M' '>$1M'\n",
            " '$5M' '$33M' '$0.5M' 'EGP 37M infra' '~$500k']\n",
            "----------\n",
            "got_external_funding\n",
            "['1' '0?' '0' '1?']\n",
            "----------\n",
            "startup_stage\n",
            "['Market' 'Market?' 'Market entry' 'Traction' 'Growth' 'Scale'\n",
            " 'Market entry?' 'Launch' 'Concept' 'Initiative']\n",
            "----------\n",
            "founder_age\n",
            "['—' '1' '0']\n",
            "----------\n",
            "founder_education\n",
            "['—' '0' '1']\n",
            "----------\n",
            "previous_startup_experience\n",
            "['—' '0' nan]\n",
            "----------\n",
            "founder_experience_years\n",
            "['—' nan]\n",
            "----------\n",
            "market_competition_level\n",
            "['High' 'Medium' 'Low–Medium' 'Low' nan]\n",
            "----------\n",
            "incubator_support\n",
            "[ 1.  0. nan]\n",
            "----------\n",
            "num_direct_competitors\n",
            "['Many' 'Some' 'Few' nan]\n",
            "----------\n",
            "market_need_level\n",
            "['Strong' 'Medium' 'Weak' 'Low' nan]\n",
            "----------\n",
            "is_successful\n",
            "['1' '0?' '0' nan '1*' '0*']\n",
            "----------\n",
            "years_to_failure\n",
            "['—' '1' '0.8' '6' '2' '3' '4' '0.5' '2025-01-05 00:00:00'\n",
            " '2025-01-02 00:00:00' nan '2025-02-05 00:00:00' '0.6']\n",
            "----------\n",
            "made_profit_in_3y\n",
            "['1' '0' '?' nan]\n",
            "----------\n"
          ]
        }
      ]
    },
    {
      "cell_type": "code",
      "source": [
        "df = df.drop(['startup_name','founder_age'], axis=1)"
      ],
      "metadata": {
        "id": "3iXUFNWU671B"
      },
      "execution_count": 55,
      "outputs": []
    },
    {
      "cell_type": "code",
      "source": [
        "df = df.drop(['founder_experience_years','previous_startup_experience'], axis=1)"
      ],
      "metadata": {
        "id": "T4lGk8RcQUzF"
      },
      "execution_count": 56,
      "outputs": []
    },
    {
      "cell_type": "code",
      "source": [
        "df.shape"
      ],
      "metadata": {
        "colab": {
          "base_uri": "https://localhost:8080/"
        },
        "id": "pM9VSqQkQy7d",
        "outputId": "65d76397-ef69-44e5-b734-ff27f7b3567d"
      },
      "execution_count": 57,
      "outputs": [
        {
          "output_type": "execute_result",
          "data": {
            "text/plain": [
              "(500, 17)"
            ]
          },
          "metadata": {},
          "execution_count": 57
        }
      ]
    },
    {
      "cell_type": "code",
      "source": [
        "#percentage of each unique val in founder_education\n",
        "\n",
        "df['founder_education'].value_counts(normalize=True) * 100"
      ],
      "metadata": {
        "colab": {
          "base_uri": "https://localhost:8080/",
          "height": 210
        },
        "id": "aGDbjzYQQzSQ",
        "outputId": "a2e677db-c3db-490d-919c-117f9323ce00"
      },
      "execution_count": 58,
      "outputs": [
        {
          "output_type": "execute_result",
          "data": {
            "text/plain": [
              "founder_education\n",
              "—    80.0\n",
              "0    13.0\n",
              "1     7.0\n",
              "Name: proportion, dtype: float64"
            ],
            "text/html": [
              "<div>\n",
              "<style scoped>\n",
              "    .dataframe tbody tr th:only-of-type {\n",
              "        vertical-align: middle;\n",
              "    }\n",
              "\n",
              "    .dataframe tbody tr th {\n",
              "        vertical-align: top;\n",
              "    }\n",
              "\n",
              "    .dataframe thead th {\n",
              "        text-align: right;\n",
              "    }\n",
              "</style>\n",
              "<table border=\"1\" class=\"dataframe\">\n",
              "  <thead>\n",
              "    <tr style=\"text-align: right;\">\n",
              "      <th></th>\n",
              "      <th>proportion</th>\n",
              "    </tr>\n",
              "    <tr>\n",
              "      <th>founder_education</th>\n",
              "      <th></th>\n",
              "    </tr>\n",
              "  </thead>\n",
              "  <tbody>\n",
              "    <tr>\n",
              "      <th>—</th>\n",
              "      <td>80.0</td>\n",
              "    </tr>\n",
              "    <tr>\n",
              "      <th>0</th>\n",
              "      <td>13.0</td>\n",
              "    </tr>\n",
              "    <tr>\n",
              "      <th>1</th>\n",
              "      <td>7.0</td>\n",
              "    </tr>\n",
              "  </tbody>\n",
              "</table>\n",
              "</div><br><label><b>dtype:</b> float64</label>"
            ]
          },
          "metadata": {},
          "execution_count": 58
        }
      ]
    },
    {
      "cell_type": "code",
      "source": [
        "df = df.drop(['founder_education'], axis=1)"
      ],
      "metadata": {
        "id": "BMalhg7HRn7m"
      },
      "execution_count": 59,
      "outputs": []
    },
    {
      "cell_type": "code",
      "source": [
        "#remove question marks from the founded year column\n",
        "\n",
        "df['founded_year'] = df['founded_year'].astype(str).str.replace('?', '', regex=False)\n",
        "df['founded_year'] = pd.to_numeric(df['founded_year'], errors='coerce')\n",
        "print(df['founded_year'].unique())"
      ],
      "metadata": {
        "colab": {
          "base_uri": "https://localhost:8080/"
        },
        "id": "CgzD0e8TRqIr",
        "outputId": "8f3ae722-669d-4282-8b20-a49635ae0730"
      },
      "execution_count": 60,
      "outputs": [
        {
          "output_type": "stream",
          "name": "stdout",
          "text": [
            "[2017 2015 2014 2018 2019 2016 2011 2021 2020 2012 2024 1982 1988 2000\n",
            " 2009 1997]\n"
          ]
        }
      ]
    },
    {
      "cell_type": "markdown",
      "source": [
        "***Clean City column***"
      ],
      "metadata": {
        "id": "4cKV2GV0Tgv1"
      }
    },
    {
      "cell_type": "code",
      "source": [
        "print (df['city'].unique())"
      ],
      "metadata": {
        "colab": {
          "base_uri": "https://localhost:8080/"
        },
        "id": "PVV9BCK2S3DW",
        "outputId": "06f0866a-e08c-4690-8aad-d88b447e99be"
      },
      "execution_count": 61,
      "outputs": [
        {
          "output_type": "stream",
          "name": "stdout",
          "text": [
            "['Cairo' 'Alexandria' 'Cairo/UK' 'Assiut' 'Port Said' 'Port Said?'\n",
            " 'Ismailia' 'Suez' 'Damietta' 'Asyut' 'Sohag' 'Luxor' 'Qena' 'Aswan'\n",
            " 'Minya' 'Aswin' 'online']\n"
          ]
        }
      ]
    },
    {
      "cell_type": "code",
      "source": [
        "# convert Cairo/UK to Cairo and convert Asyut to Assiut and convert Aswin to Aswan\n",
        "\n",
        "df['city'] = df['city'].str.replace('/UK', '', regex=False)\n",
        "df['city'] = df['city'].str.replace(r'Port Said?', 'Portsaid', regex=False)\n",
        "df['city'] = df['city'].str.replace(r'Port Said', 'Portsaid', regex=False)\n",
        "df['city'] = df['city'].str.replace('Asyut', 'Assiut', regex=False)\n",
        "df['city'] = df['city'].str.replace('Aswin', 'Aswan', regex=False)\n",
        "print (df['city'].unique())"
      ],
      "metadata": {
        "colab": {
          "base_uri": "https://localhost:8080/"
        },
        "id": "4_tIZ7B2TvjU",
        "outputId": "1f937889-8a3b-430e-ed16-1bad2345a6ab"
      },
      "execution_count": 62,
      "outputs": [
        {
          "output_type": "stream",
          "name": "stdout",
          "text": [
            "['Cairo' 'Alexandria' 'Assiut' 'Portsaid' 'Ismailia' 'Suez' 'Damietta'\n",
            " 'Sohag' 'Luxor' 'Qena' 'Aswan' 'Minya' 'online']\n"
          ]
        }
      ]
    },
    {
      "cell_type": "markdown",
      "source": [
        "Continue..."
      ],
      "metadata": {
        "id": "7eE9gXLKVHLd"
      }
    },
    {
      "cell_type": "code",
      "source": [
        "df.info()"
      ],
      "metadata": {
        "colab": {
          "base_uri": "https://localhost:8080/"
        },
        "id": "iWPyC8fgUeZJ",
        "outputId": "bca2857c-e23e-49f2-b9fc-6f2cc6aa81f5"
      },
      "execution_count": 63,
      "outputs": [
        {
          "output_type": "stream",
          "name": "stdout",
          "text": [
            "<class 'pandas.core.frame.DataFrame'>\n",
            "RangeIndex: 500 entries, 0 to 499\n",
            "Data columns (total 16 columns):\n",
            " #   Column                    Non-Null Count  Dtype  \n",
            "---  ------                    --------------  -----  \n",
            " 0   founded_year              500 non-null    int64  \n",
            " 1   city                      500 non-null    object \n",
            " 2   industry                  500 non-null    object \n",
            " 3   has_online_presence       500 non-null    int64  \n",
            " 4   num_founders              500 non-null    object \n",
            " 5   num_employees             500 non-null    object \n",
            " 6   initial_funding           500 non-null    object \n",
            " 7   got_external_funding      500 non-null    object \n",
            " 8   startup_stage             500 non-null    object \n",
            " 9   market_competition_level  400 non-null    object \n",
            " 10  incubator_support         400 non-null    float64\n",
            " 11  num_direct_competitors    400 non-null    object \n",
            " 12  market_need_level         400 non-null    object \n",
            " 13  is_successful             400 non-null    object \n",
            " 14  years_to_failure          400 non-null    object \n",
            " 15  made_profit_in_3y         400 non-null    object \n",
            "dtypes: float64(1), int64(2), object(13)\n",
            "memory usage: 62.6+ KB\n"
          ]
        }
      ]
    },
    {
      "cell_type": "markdown",
      "source": [
        "***initial_funding column***"
      ],
      "metadata": {
        "id": "fg7cGcu4bjmF"
      }
    },
    {
      "cell_type": "code",
      "source": [
        "#count of unique values in initial_funding column\n",
        "\n",
        "print(df['initial_funding'].value_counts())"
      ],
      "metadata": {
        "colab": {
          "base_uri": "https://localhost:8080/"
        },
        "id": "nbiA7niXbphJ",
        "outputId": "ae0505e2-84d5-4a1e-9858-cc9573b43296"
      },
      "execution_count": 64,
      "outputs": [
        {
          "output_type": "stream",
          "name": "stdout",
          "text": [
            "initial_funding\n",
            "—                440\n",
            "30e3 USD          10\n",
            "2.7 M USD          5\n",
            "660k USD           5\n",
            "3 M USD            5\n",
            ">$30M              5\n",
            ">$1M               5\n",
            "$5M                5\n",
            "$33M               5\n",
            "$0.5M              5\n",
            "EGP 37M infra      5\n",
            "~$500k             5\n",
            "Name: count, dtype: int64\n"
          ]
        }
      ]
    },
    {
      "cell_type": "code",
      "source": [
        "df = df.drop(['initial_funding'], axis=1)"
      ],
      "metadata": {
        "id": "GFQR5dfnPTX0"
      },
      "execution_count": 65,
      "outputs": []
    },
    {
      "cell_type": "code",
      "source": [
        "df.shape"
      ],
      "metadata": {
        "colab": {
          "base_uri": "https://localhost:8080/"
        },
        "id": "q5EL5ZotPcK1",
        "outputId": "34f8ec59-b9a4-425a-afe7-7fab7e303abe"
      },
      "execution_count": 66,
      "outputs": [
        {
          "output_type": "execute_result",
          "data": {
            "text/plain": [
              "(500, 15)"
            ]
          },
          "metadata": {},
          "execution_count": 66
        }
      ]
    },
    {
      "cell_type": "markdown",
      "source": [
        "***number of employees column***"
      ],
      "metadata": {
        "id": "f9YZ1WEgYzRm"
      }
    },
    {
      "cell_type": "code",
      "source": [
        "# prompt: show the count of unique vals in num_employees column\n",
        "\n",
        "print(df['num_employees'].value_counts())"
      ],
      "metadata": {
        "colab": {
          "base_uri": "https://localhost:8080/"
        },
        "id": "r1PSy27NY6ZR",
        "outputId": "30a6b505-6bc4-45d9-e85f-ac1b1dfe931b"
      },
      "execution_count": 67,
      "outputs": [
        {
          "output_type": "stream",
          "name": "stdout",
          "text": [
            "num_employees\n",
            "~10               55\n",
            "~5                40\n",
            "~8                35\n",
            "~4                30\n",
            "~15               30\n",
            "~12               25\n",
            "~~                25\n",
            "~3                25\n",
            "~20               25\n",
            "~50               25\n",
            "~30               20\n",
            "~6                20\n",
            "—                 15\n",
            "200+              10\n",
            "~7                10\n",
            "~25               10\n",
            "~100              10\n",
            "~45               10\n",
            "500+               5\n",
            "~20 per branch     5\n",
            "~44                5\n",
            "~2000              5\n",
            "40+                5\n",
            "150+               5\n",
            "600                5\n",
            "44                 5\n",
            "300+               5\n",
            "37+                5\n",
            "~35                5\n",
            "~120               5\n",
            "~80                5\n",
            "~60                5\n",
            "~150               5\n",
            "~40                5\n",
            "Name: count, dtype: int64\n"
          ]
        }
      ]
    },
    {
      "cell_type": "code",
      "source": [
        "# prompt: remove '~' and '+' chars in num_employees column\n",
        "\n",
        "df['num_employees'] = df['num_employees'].astype(str).str.replace('~', '', regex=False)\n",
        "df['num_employees'] = df['num_employees'].str.replace('+', '', regex=False)\n",
        "print(df['num_employees'].value_counts())"
      ],
      "metadata": {
        "colab": {
          "base_uri": "https://localhost:8080/"
        },
        "id": "K22sZibRY6zt",
        "outputId": "2af8f78f-be18-468e-9682-40a82cdfaf62"
      },
      "execution_count": 68,
      "outputs": [
        {
          "output_type": "stream",
          "name": "stdout",
          "text": [
            "num_employees\n",
            "10               55\n",
            "5                40\n",
            "8                35\n",
            "4                30\n",
            "15               30\n",
            "50               25\n",
            "20               25\n",
            "                 25\n",
            "3                25\n",
            "12               25\n",
            "30               20\n",
            "6                20\n",
            "—                15\n",
            "200              10\n",
            "150              10\n",
            "7                10\n",
            "45               10\n",
            "44               10\n",
            "25               10\n",
            "40               10\n",
            "100              10\n",
            "300               5\n",
            "600               5\n",
            "2000              5\n",
            "500               5\n",
            "20 per branch     5\n",
            "37                5\n",
            "35                5\n",
            "120               5\n",
            "80                5\n",
            "60                5\n",
            "Name: count, dtype: int64\n"
          ]
        }
      ]
    },
    {
      "cell_type": "code",
      "source": [
        "#convert 20 per branch to 20\n",
        "\n",
        "df['num_employees'] = df['num_employees'].str.replace(' per branch', '', regex=False)\n",
        "print(df['num_employees'].value_counts())"
      ],
      "metadata": {
        "colab": {
          "base_uri": "https://localhost:8080/"
        },
        "id": "Kh_vV3XgZzPH",
        "outputId": "2812402d-6529-43ff-ca9f-4f77ee73dcec"
      },
      "execution_count": 69,
      "outputs": [
        {
          "output_type": "stream",
          "name": "stdout",
          "text": [
            "num_employees\n",
            "10      55\n",
            "5       40\n",
            "8       35\n",
            "20      30\n",
            "4       30\n",
            "15      30\n",
            "3       25\n",
            "50      25\n",
            "        25\n",
            "12      25\n",
            "6       20\n",
            "30      20\n",
            "—       15\n",
            "200     10\n",
            "7       10\n",
            "25      10\n",
            "45      10\n",
            "40      10\n",
            "150     10\n",
            "100     10\n",
            "44      10\n",
            "300      5\n",
            "2000     5\n",
            "500      5\n",
            "600      5\n",
            "37       5\n",
            "35       5\n",
            "120      5\n",
            "80       5\n",
            "60       5\n",
            "Name: count, dtype: int64\n"
          ]
        }
      ]
    },
    {
      "cell_type": "code",
      "source": [
        "# prompt: fill null values in num_employees column\n",
        "\n",
        "#fill null values using median\n",
        "\n",
        "df['num_employees'] = pd.to_numeric(df['num_employees'], errors='coerce')\n",
        "df['num_employees'] = df['num_employees'].fillna(df['num_employees'].median())\n",
        "print(df['num_employees'].unique())\n",
        "df.info()\n",
        "print(df['num_employees'].value_counts())"
      ],
      "metadata": {
        "colab": {
          "base_uri": "https://localhost:8080/"
        },
        "id": "chdJlj4IZ_51",
        "outputId": "15165e3c-8655-447d-93e0-1a931078d6e8"
      },
      "execution_count": 70,
      "outputs": [
        {
          "output_type": "stream",
          "name": "stdout",
          "text": [
            "[ 500.  200.  300.  600.  150.   40.   12.   44.    5.   10.  100.   50.\n",
            " 2000.   20.    3.   37.    4.    8.   15.   30.    6.   35.   25.    7.\n",
            "  120.   80.   60.   45.]\n",
            "<class 'pandas.core.frame.DataFrame'>\n",
            "RangeIndex: 500 entries, 0 to 499\n",
            "Data columns (total 15 columns):\n",
            " #   Column                    Non-Null Count  Dtype  \n",
            "---  ------                    --------------  -----  \n",
            " 0   founded_year              500 non-null    int64  \n",
            " 1   city                      500 non-null    object \n",
            " 2   industry                  500 non-null    object \n",
            " 3   has_online_presence       500 non-null    int64  \n",
            " 4   num_founders              500 non-null    object \n",
            " 5   num_employees             500 non-null    float64\n",
            " 6   got_external_funding      500 non-null    object \n",
            " 7   startup_stage             500 non-null    object \n",
            " 8   market_competition_level  400 non-null    object \n",
            " 9   incubator_support         400 non-null    float64\n",
            " 10  num_direct_competitors    400 non-null    object \n",
            " 11  market_need_level         400 non-null    object \n",
            " 12  is_successful             400 non-null    object \n",
            " 13  years_to_failure          400 non-null    object \n",
            " 14  made_profit_in_3y         400 non-null    object \n",
            "dtypes: float64(2), int64(2), object(11)\n",
            "memory usage: 58.7+ KB\n",
            "num_employees\n",
            "12.0      65\n",
            "10.0      55\n",
            "5.0       40\n",
            "8.0       35\n",
            "15.0      30\n",
            "4.0       30\n",
            "20.0      30\n",
            "3.0       25\n",
            "50.0      25\n",
            "30.0      20\n",
            "6.0       20\n",
            "44.0      10\n",
            "7.0       10\n",
            "45.0      10\n",
            "40.0      10\n",
            "100.0     10\n",
            "200.0     10\n",
            "150.0     10\n",
            "25.0      10\n",
            "600.0      5\n",
            "300.0      5\n",
            "500.0      5\n",
            "2000.0     5\n",
            "37.0       5\n",
            "35.0       5\n",
            "120.0      5\n",
            "80.0       5\n",
            "60.0       5\n",
            "Name: count, dtype: int64\n"
          ]
        }
      ]
    },
    {
      "cell_type": "code",
      "source": [
        "print(df['num_employees'].value_counts())"
      ],
      "metadata": {
        "colab": {
          "base_uri": "https://localhost:8080/"
        },
        "id": "XtV4mx1haepd",
        "outputId": "676ede38-7b69-4144-e9f3-42e4f51796e7"
      },
      "execution_count": 71,
      "outputs": [
        {
          "output_type": "stream",
          "name": "stdout",
          "text": [
            "num_employees\n",
            "12.0      65\n",
            "10.0      55\n",
            "5.0       40\n",
            "8.0       35\n",
            "15.0      30\n",
            "4.0       30\n",
            "20.0      30\n",
            "3.0       25\n",
            "50.0      25\n",
            "30.0      20\n",
            "6.0       20\n",
            "44.0      10\n",
            "7.0       10\n",
            "45.0      10\n",
            "40.0      10\n",
            "100.0     10\n",
            "200.0     10\n",
            "150.0     10\n",
            "25.0      10\n",
            "600.0      5\n",
            "300.0      5\n",
            "500.0      5\n",
            "2000.0     5\n",
            "37.0       5\n",
            "35.0       5\n",
            "120.0      5\n",
            "80.0       5\n",
            "60.0       5\n",
            "Name: count, dtype: int64\n"
          ]
        }
      ]
    },
    {
      "cell_type": "code",
      "source": [
        "# prompt: convert float vals to integer vals\n",
        "\n",
        "df['num_employees'] = df['num_employees'].astype(int)\n",
        "print(df['num_employees'].unique())\n",
        "print(df['num_employees'].value_counts())\n",
        "df.info()"
      ],
      "metadata": {
        "colab": {
          "base_uri": "https://localhost:8080/"
        },
        "id": "FYv0br5TbM0P",
        "outputId": "0dde9fc4-d561-4a0e-c6b9-c9c9b20cdc72"
      },
      "execution_count": 72,
      "outputs": [
        {
          "output_type": "stream",
          "name": "stdout",
          "text": [
            "[ 500  200  300  600  150   40   12   44    5   10  100   50 2000   20\n",
            "    3   37    4    8   15   30    6   35   25    7  120   80   60   45]\n",
            "num_employees\n",
            "12      65\n",
            "10      55\n",
            "5       40\n",
            "8       35\n",
            "15      30\n",
            "4       30\n",
            "20      30\n",
            "3       25\n",
            "50      25\n",
            "30      20\n",
            "6       20\n",
            "44      10\n",
            "7       10\n",
            "45      10\n",
            "40      10\n",
            "100     10\n",
            "200     10\n",
            "150     10\n",
            "25      10\n",
            "600      5\n",
            "300      5\n",
            "500      5\n",
            "2000     5\n",
            "37       5\n",
            "35       5\n",
            "120      5\n",
            "80       5\n",
            "60       5\n",
            "Name: count, dtype: int64\n",
            "<class 'pandas.core.frame.DataFrame'>\n",
            "RangeIndex: 500 entries, 0 to 499\n",
            "Data columns (total 15 columns):\n",
            " #   Column                    Non-Null Count  Dtype  \n",
            "---  ------                    --------------  -----  \n",
            " 0   founded_year              500 non-null    int64  \n",
            " 1   city                      500 non-null    object \n",
            " 2   industry                  500 non-null    object \n",
            " 3   has_online_presence       500 non-null    int64  \n",
            " 4   num_founders              500 non-null    object \n",
            " 5   num_employees             500 non-null    int64  \n",
            " 6   got_external_funding      500 non-null    object \n",
            " 7   startup_stage             500 non-null    object \n",
            " 8   market_competition_level  400 non-null    object \n",
            " 9   incubator_support         400 non-null    float64\n",
            " 10  num_direct_competitors    400 non-null    object \n",
            " 11  market_need_level         400 non-null    object \n",
            " 12  is_successful             400 non-null    object \n",
            " 13  years_to_failure          400 non-null    object \n",
            " 14  made_profit_in_3y         400 non-null    object \n",
            "dtypes: float64(1), int64(3), object(11)\n",
            "memory usage: 58.7+ KB\n"
          ]
        }
      ]
    },
    {
      "cell_type": "markdown",
      "source": [
        "***number of founder column***"
      ],
      "metadata": {
        "id": "nXkk3UuVWncX"
      }
    },
    {
      "cell_type": "code",
      "source": [
        "# show the number of each unique value in the column num_founder\n",
        "\n",
        "print(df['num_founders'].value_counts())"
      ],
      "metadata": {
        "colab": {
          "base_uri": "https://localhost:8080/"
        },
        "id": "DZUo3Gd6WuiE",
        "outputId": "73eb6366-a6a7-4746-f135-15e5a1ebfacb"
      },
      "execution_count": 73,
      "outputs": [
        {
          "output_type": "stream",
          "name": "stdout",
          "text": [
            "num_founders\n",
            "2    210\n",
            "1    135\n",
            "3    100\n",
            "—     40\n",
            "4     15\n",
            "Name: count, dtype: int64\n"
          ]
        }
      ]
    },
    {
      "cell_type": "code",
      "source": [
        "#fill the null values in the num_founders column\n",
        "\n",
        "# Replace '—' with NaN for proper numerical handling\n",
        "df['num_founders'] = df['num_founders'].replace('—', np.nan)\n",
        "\n",
        "# Convert the column to numeric, coercing errors to NaN\n",
        "df['num_founders'] = pd.to_numeric(df['num_founders'], errors='coerce')\n",
        "\n",
        "# Assuming the missing values are represented as NaN\n",
        "# We can fill NaNs with a median, mean, or a specific value (like 1 for founder count).\n",
        "# Using median is generally safer if there are outliers.\n",
        "# Let's check the distribution first to decide.\n",
        "print(df['num_founders'].describe())\n",
        "print(df['num_founders'].median())\n",
        "\n",
        "# Option 1: Fill NaNs with the median of the column\n",
        "df['num_founders'].fillna(df['num_founders'].median(), inplace=True)\n",
        "\n",
        "# Option 2: Fill NaNs with a specific value (e.g., 1, assuming a single founder is a common scenario)\n",
        "# df['num_founders'].fillna(1, inplace=True)\n",
        "\n",
        "# Verify that NaNs have been filled\n",
        "print(\"\\nAfter filling NaNs:\")\n",
        "print(df['num_founders'].value_counts())\n",
        "print(df['num_founders'].isnull().sum()) # Should be 0"
      ],
      "metadata": {
        "colab": {
          "base_uri": "https://localhost:8080/"
        },
        "id": "CTRqWjKAXRXr",
        "outputId": "6f0262cb-d875-4c84-9b25-c02557a51d3d"
      },
      "execution_count": 74,
      "outputs": [
        {
          "output_type": "stream",
          "name": "stdout",
          "text": [
            "count    460.000000\n",
            "mean       1.989130\n",
            "std        0.801613\n",
            "min        1.000000\n",
            "25%        1.000000\n",
            "50%        2.000000\n",
            "75%        2.250000\n",
            "max        4.000000\n",
            "Name: num_founders, dtype: float64\n",
            "2.0\n",
            "\n",
            "After filling NaNs:\n",
            "num_founders\n",
            "2.0    250\n",
            "1.0    135\n",
            "3.0    100\n",
            "4.0     15\n",
            "Name: count, dtype: int64\n",
            "0\n"
          ]
        }
      ]
    },
    {
      "cell_type": "markdown",
      "source": [
        "***Online presence column***"
      ],
      "metadata": {
        "id": "PpVg7N6WWOeJ"
      }
    },
    {
      "cell_type": "code",
      "source": [
        "#percentage of unique vals in the has_online_presence column\n",
        "df['has_online_presence'].value_counts(normalize=True) * 100"
      ],
      "metadata": {
        "colab": {
          "base_uri": "https://localhost:8080/",
          "height": 178
        },
        "id": "BPwLhLYbWJ5K",
        "outputId": "ffed06a6-f1cb-4d60-d395-8939a8037f0f"
      },
      "execution_count": 75,
      "outputs": [
        {
          "output_type": "execute_result",
          "data": {
            "text/plain": [
              "has_online_presence\n",
              "1    72.0\n",
              "0    28.0\n",
              "Name: proportion, dtype: float64"
            ],
            "text/html": [
              "<div>\n",
              "<style scoped>\n",
              "    .dataframe tbody tr th:only-of-type {\n",
              "        vertical-align: middle;\n",
              "    }\n",
              "\n",
              "    .dataframe tbody tr th {\n",
              "        vertical-align: top;\n",
              "    }\n",
              "\n",
              "    .dataframe thead th {\n",
              "        text-align: right;\n",
              "    }\n",
              "</style>\n",
              "<table border=\"1\" class=\"dataframe\">\n",
              "  <thead>\n",
              "    <tr style=\"text-align: right;\">\n",
              "      <th></th>\n",
              "      <th>proportion</th>\n",
              "    </tr>\n",
              "    <tr>\n",
              "      <th>has_online_presence</th>\n",
              "      <th></th>\n",
              "    </tr>\n",
              "  </thead>\n",
              "  <tbody>\n",
              "    <tr>\n",
              "      <th>1</th>\n",
              "      <td>72.0</td>\n",
              "    </tr>\n",
              "    <tr>\n",
              "      <th>0</th>\n",
              "      <td>28.0</td>\n",
              "    </tr>\n",
              "  </tbody>\n",
              "</table>\n",
              "</div><br><label><b>dtype:</b> float64</label>"
            ]
          },
          "metadata": {},
          "execution_count": 75
        }
      ]
    },
    {
      "cell_type": "markdown",
      "source": [
        "***Continue ...***"
      ],
      "metadata": {
        "id": "ek4iJIeYPpVb"
      }
    },
    {
      "cell_type": "code",
      "source": [
        "df.info()"
      ],
      "metadata": {
        "id": "Ea6pJTAkWfWV",
        "colab": {
          "base_uri": "https://localhost:8080/"
        },
        "outputId": "9f7c65c9-1d4b-400e-97e2-498a4f276b6b"
      },
      "execution_count": 76,
      "outputs": [
        {
          "output_type": "stream",
          "name": "stdout",
          "text": [
            "<class 'pandas.core.frame.DataFrame'>\n",
            "RangeIndex: 500 entries, 0 to 499\n",
            "Data columns (total 15 columns):\n",
            " #   Column                    Non-Null Count  Dtype  \n",
            "---  ------                    --------------  -----  \n",
            " 0   founded_year              500 non-null    int64  \n",
            " 1   city                      500 non-null    object \n",
            " 2   industry                  500 non-null    object \n",
            " 3   has_online_presence       500 non-null    int64  \n",
            " 4   num_founders              500 non-null    float64\n",
            " 5   num_employees             500 non-null    int64  \n",
            " 6   got_external_funding      500 non-null    object \n",
            " 7   startup_stage             500 non-null    object \n",
            " 8   market_competition_level  400 non-null    object \n",
            " 9   incubator_support         400 non-null    float64\n",
            " 10  num_direct_competitors    400 non-null    object \n",
            " 11  market_need_level         400 non-null    object \n",
            " 12  is_successful             400 non-null    object \n",
            " 13  years_to_failure          400 non-null    object \n",
            " 14  made_profit_in_3y         400 non-null    object \n",
            "dtypes: float64(2), int64(3), object(10)\n",
            "memory usage: 58.7+ KB\n"
          ]
        }
      ]
    },
    {
      "cell_type": "markdown",
      "source": [
        "***Market competition level***"
      ],
      "metadata": {
        "id": "0IIM0XjRvttL"
      }
    },
    {
      "cell_type": "code",
      "source": [
        "# prompt: show the counts of market_competition_level column including null vals\n",
        "\n",
        "print(df['market_competition_level'].value_counts(dropna=False))"
      ],
      "metadata": {
        "colab": {
          "base_uri": "https://localhost:8080/"
        },
        "id": "vpTt2sZIvzLV",
        "outputId": "4974f6fe-bb49-4d52-f1a0-2be05d42d450"
      },
      "execution_count": 77,
      "outputs": [
        {
          "output_type": "stream",
          "name": "stdout",
          "text": [
            "market_competition_level\n",
            "Medium        210\n",
            "High          160\n",
            "NaN           100\n",
            "Low            20\n",
            "Low–Medium     10\n",
            "Name: count, dtype: int64\n"
          ]
        }
      ]
    },
    {
      "cell_type": "code",
      "source": [
        "# prompt: fill null vals in this column\n",
        "\n",
        "# Check the percentage of null values in the 'market_competition_level' column\n",
        "print(\"Percentage of null values in 'market_competition_level':\")\n",
        "print(df['market_competition_level'].isnull().sum() / len(df) * 100)\n",
        "\n",
        "# Based on the value counts and info() call, the null values are represented as NaN (checked by dropna=False in value_counts)\n",
        "# Fill null values with the mode (most frequent value) as it's a categorical column\n",
        "# Calculate the mode\n",
        "mode_competition = df['market_competition_level'].mode()[0]\n",
        "\n",
        "# Fill the null values\n",
        "df['market_competition_level'].fillna(mode_competition, inplace=True)\n",
        "\n",
        "# Verify that null values have been filled\n",
        "print(\"\\nAfter filling null values in 'market_competition_level':\")\n",
        "print(df['market_competition_level'].value_counts(dropna=False))\n",
        "print(df['market_competition_level'].isnull().sum()) # Should be 0"
      ],
      "metadata": {
        "colab": {
          "base_uri": "https://localhost:8080/"
        },
        "id": "d6Zy9SIfvzd4",
        "outputId": "fc3645b1-3a1f-42e3-a5f6-430d5ca793d7"
      },
      "execution_count": 78,
      "outputs": [
        {
          "output_type": "stream",
          "name": "stdout",
          "text": [
            "Percentage of null values in 'market_competition_level':\n",
            "20.0\n",
            "\n",
            "After filling null values in 'market_competition_level':\n",
            "market_competition_level\n",
            "Medium        310\n",
            "High          160\n",
            "Low            20\n",
            "Low–Medium     10\n",
            "Name: count, dtype: int64\n",
            "0\n"
          ]
        }
      ]
    },
    {
      "cell_type": "code",
      "source": [
        "# prompt: convert Low–Medium to Low\n",
        "\n",
        "df['market_competition_level'] = df['market_competition_level'].replace('Low–Medium', 'Low')\n",
        "print(df['market_competition_level'].value_counts(dropna=False))\n"
      ],
      "metadata": {
        "colab": {
          "base_uri": "https://localhost:8080/"
        },
        "id": "h9-QbQA_woiF",
        "outputId": "8c30f7f0-94b7-49e1-e88c-d5117b7aa930"
      },
      "execution_count": 79,
      "outputs": [
        {
          "output_type": "stream",
          "name": "stdout",
          "text": [
            "market_competition_level\n",
            "Medium    310\n",
            "High      160\n",
            "Low        30\n",
            "Name: count, dtype: int64\n"
          ]
        }
      ]
    },
    {
      "cell_type": "markdown",
      "source": [
        "***Startup Stage Column***"
      ],
      "metadata": {
        "id": "VTiTZgZclPVJ"
      }
    },
    {
      "cell_type": "code",
      "source": [
        "print(df['startup_stage'].value_counts())"
      ],
      "metadata": {
        "colab": {
          "base_uri": "https://localhost:8080/"
        },
        "id": "MjVVTi7slWTM",
        "outputId": "2c1bc505-c1bb-4377-bbcf-8fb255d3ab09"
      },
      "execution_count": 80,
      "outputs": [
        {
          "output_type": "stream",
          "name": "stdout",
          "text": [
            "startup_stage\n",
            "Market           150\n",
            "Traction         145\n",
            "Growth            80\n",
            "Concept           50\n",
            "Launch            45\n",
            "Market entry      10\n",
            "Market?            5\n",
            "Scale              5\n",
            "Market entry?      5\n",
            "Initiative         5\n",
            "Name: count, dtype: int64\n"
          ]
        }
      ]
    },
    {
      "cell_type": "code",
      "source": [
        "# prompt: convert Concept to Market entry and Launch to Market entry and Initiative to Market entry and Market entry? to Market entry\n",
        "\n",
        "df['startup_stage'] = df['startup_stage'].replace(['Concept', 'Launch', 'Initiative', 'Market entry?'], 'Market entry')\n",
        "\n",
        "print(df['startup_stage'].value_counts())"
      ],
      "metadata": {
        "colab": {
          "base_uri": "https://localhost:8080/"
        },
        "id": "hlWyDlzRtQq7",
        "outputId": "b2932ff5-4812-4d35-c4ea-4225614a2946"
      },
      "execution_count": 81,
      "outputs": [
        {
          "output_type": "stream",
          "name": "stdout",
          "text": [
            "startup_stage\n",
            "Market          150\n",
            "Traction        145\n",
            "Market entry    115\n",
            "Growth           80\n",
            "Market?           5\n",
            "Scale             5\n",
            "Name: count, dtype: int64\n"
          ]
        }
      ]
    },
    {
      "cell_type": "code",
      "source": [
        "# prompt: convert Market? to Market\n",
        "\n",
        "df['startup_stage'] = df['startup_stage'].str.replace('?', '', regex=False)\n",
        "print(df['startup_stage'].value_counts())"
      ],
      "metadata": {
        "colab": {
          "base_uri": "https://localhost:8080/"
        },
        "id": "-iV8lTh9uVRe",
        "outputId": "f173311f-3517-4712-e4f1-6702e17d51a4"
      },
      "execution_count": 82,
      "outputs": [
        {
          "output_type": "stream",
          "name": "stdout",
          "text": [
            "startup_stage\n",
            "Market          155\n",
            "Traction        145\n",
            "Market entry    115\n",
            "Growth           80\n",
            "Scale             5\n",
            "Name: count, dtype: int64\n"
          ]
        }
      ]
    },
    {
      "cell_type": "code",
      "source": [
        "# prompt: convert Traction to Growth\n",
        "\n",
        "df['startup_stage'] = df['startup_stage'].replace('Traction', 'Growth')\n",
        "print(df['startup_stage'].value_counts())"
      ],
      "metadata": {
        "colab": {
          "base_uri": "https://localhost:8080/"
        },
        "id": "daTJatjyvZ4G",
        "outputId": "ef0cd1e2-64e2-44c5-ce34-b83a8d1ae93d"
      },
      "execution_count": 83,
      "outputs": [
        {
          "output_type": "stream",
          "name": "stdout",
          "text": [
            "startup_stage\n",
            "Growth          225\n",
            "Market          155\n",
            "Market entry    115\n",
            "Scale             5\n",
            "Name: count, dtype: int64\n"
          ]
        }
      ]
    },
    {
      "cell_type": "markdown",
      "source": [
        "***external funding column***"
      ],
      "metadata": {
        "id": "HR4HUCjUkBK3"
      }
    },
    {
      "cell_type": "code",
      "source": [
        "# prompt: print the count of unique values of got_external_funding column\n",
        "\n",
        "print(df['got_external_funding'].value_counts())"
      ],
      "metadata": {
        "colab": {
          "base_uri": "https://localhost:8080/"
        },
        "id": "K_GnaBHnjHcc",
        "outputId": "26fcb9b4-405f-43d8-cab2-fc5931972d8c"
      },
      "execution_count": 84,
      "outputs": [
        {
          "output_type": "stream",
          "name": "stdout",
          "text": [
            "got_external_funding\n",
            "0     320\n",
            "1     170\n",
            "0?      5\n",
            "1?      5\n",
            "Name: count, dtype: int64\n"
          ]
        }
      ]
    },
    {
      "cell_type": "code",
      "source": [
        "# prompt: remove all '?' marks from got_external_funding column\n",
        "\n",
        "df['got_external_funding'] = df['got_external_funding'].astype(str).str.replace('?', '', regex=False)\n",
        "print(df['got_external_funding'].value_counts())"
      ],
      "metadata": {
        "colab": {
          "base_uri": "https://localhost:8080/"
        },
        "id": "AjSo7_PmkU-A",
        "outputId": "a92ca137-4f2c-4819-9d73-f1454459e2f2"
      },
      "execution_count": 85,
      "outputs": [
        {
          "output_type": "stream",
          "name": "stdout",
          "text": [
            "got_external_funding\n",
            "0    325\n",
            "1    175\n",
            "Name: count, dtype: int64\n"
          ]
        }
      ]
    },
    {
      "cell_type": "markdown",
      "source": [
        "***Continue ...***"
      ],
      "metadata": {
        "id": "WTNtSFSmxYUO"
      }
    },
    {
      "cell_type": "code",
      "source": [
        "df.info()"
      ],
      "metadata": {
        "colab": {
          "base_uri": "https://localhost:8080/"
        },
        "id": "SX8X2d3yxhbr",
        "outputId": "105546c6-3ad0-4ab1-ed94-c6e7da3e38f5"
      },
      "execution_count": 86,
      "outputs": [
        {
          "output_type": "stream",
          "name": "stdout",
          "text": [
            "<class 'pandas.core.frame.DataFrame'>\n",
            "RangeIndex: 500 entries, 0 to 499\n",
            "Data columns (total 15 columns):\n",
            " #   Column                    Non-Null Count  Dtype  \n",
            "---  ------                    --------------  -----  \n",
            " 0   founded_year              500 non-null    int64  \n",
            " 1   city                      500 non-null    object \n",
            " 2   industry                  500 non-null    object \n",
            " 3   has_online_presence       500 non-null    int64  \n",
            " 4   num_founders              500 non-null    float64\n",
            " 5   num_employees             500 non-null    int64  \n",
            " 6   got_external_funding      500 non-null    object \n",
            " 7   startup_stage             500 non-null    object \n",
            " 8   market_competition_level  500 non-null    object \n",
            " 9   incubator_support         400 non-null    float64\n",
            " 10  num_direct_competitors    400 non-null    object \n",
            " 11  market_need_level         400 non-null    object \n",
            " 12  is_successful             400 non-null    object \n",
            " 13  years_to_failure          400 non-null    object \n",
            " 14  made_profit_in_3y         400 non-null    object \n",
            "dtypes: float64(2), int64(3), object(10)\n",
            "memory usage: 58.7+ KB\n"
          ]
        }
      ]
    },
    {
      "cell_type": "markdown",
      "source": [
        "***is_successful***"
      ],
      "metadata": {
        "id": "8Dp2hkfl9FJT"
      }
    },
    {
      "cell_type": "code",
      "source": [
        "print(df['is_successful'].value_counts())"
      ],
      "metadata": {
        "colab": {
          "base_uri": "https://localhost:8080/"
        },
        "id": "895iN3FK9IX4",
        "outputId": "9f6f54a1-f8d8-4f98-dd06-9454740dce68"
      },
      "execution_count": 97,
      "outputs": [
        {
          "output_type": "stream",
          "name": "stdout",
          "text": [
            "is_successful\n",
            "0     220\n",
            "1     165\n",
            "0?      5\n",
            "1*      5\n",
            "0*      5\n",
            "Name: count, dtype: int64\n"
          ]
        }
      ]
    },
    {
      "cell_type": "code",
      "source": [
        "# prompt: remove '*' and '?' chars from the column\n",
        "\n",
        "df['is_successful'] = df['is_successful'].astype(str).str.replace('*', '', regex=False)\n",
        "df['is_successful'] = df['is_successful'].str.replace('?', '', regex=False)\n",
        "print(df['is_successful'].value_counts())"
      ],
      "metadata": {
        "colab": {
          "base_uri": "https://localhost:8080/"
        },
        "id": "6_Nu1jnD9SyP",
        "outputId": "8065b933-aef3-4f25-855e-14fd7fc42bd7"
      },
      "execution_count": 98,
      "outputs": [
        {
          "output_type": "stream",
          "name": "stdout",
          "text": [
            "is_successful\n",
            "0      230\n",
            "1      170\n",
            "nan    100\n",
            "Name: count, dtype: int64\n"
          ]
        }
      ]
    },
    {
      "cell_type": "code",
      "source": [
        "# prompt: fill the missing val in is_successful with mode\n",
        "\n",
        "# Assuming the missing values are represented as NaN after the previous cleaning steps\n",
        "# Calculate the mode of the 'is_successful' column\n",
        "mode_successful = df['is_successful'].mode()[0]\n",
        "\n",
        "# Fill null values with the mode\n",
        "df['is_successful'].fillna(mode_successful, inplace=True)\n",
        "\n",
        "# Verify that null values have been filled\n",
        "print(\"\\nAfter filling null values in 'is_successful':\")\n",
        "print(df['is_successful'].value_counts(dropna=False))\n",
        "print(df['is_successful'].isnull().sum()) # Should be 0"
      ],
      "metadata": {
        "colab": {
          "base_uri": "https://localhost:8080/"
        },
        "id": "qJUlxdyt-0qj",
        "outputId": "125dce99-1db7-4975-c413-d119ba034823"
      },
      "execution_count": 103,
      "outputs": [
        {
          "output_type": "stream",
          "name": "stdout",
          "text": [
            "\n",
            "After filling null values in 'is_successful':\n",
            "is_successful\n",
            "0      230\n",
            "1      170\n",
            "nan    100\n",
            "Name: count, dtype: int64\n",
            "0\n"
          ]
        }
      ]
    },
    {
      "cell_type": "code",
      "source": [
        "print(df['is_successful'].value_counts())"
      ],
      "metadata": {
        "colab": {
          "base_uri": "https://localhost:8080/"
        },
        "id": "UWLVPrRJ_F9r",
        "outputId": "5283d5a3-0365-439b-92e0-30703b2f53a7"
      },
      "execution_count": 102,
      "outputs": [
        {
          "output_type": "stream",
          "name": "stdout",
          "text": [
            "is_successful\n",
            "0      230\n",
            "1      170\n",
            "nan    100\n",
            "Name: count, dtype: int64\n"
          ]
        }
      ]
    },
    {
      "cell_type": "code",
      "source": [
        "df.info()"
      ],
      "metadata": {
        "colab": {
          "base_uri": "https://localhost:8080/"
        },
        "id": "s0B3mGSH_afC",
        "outputId": "deda8e42-6f00-4674-b3ce-ae2bff60d77f"
      },
      "execution_count": 104,
      "outputs": [
        {
          "output_type": "stream",
          "name": "stdout",
          "text": [
            "<class 'pandas.core.frame.DataFrame'>\n",
            "RangeIndex: 500 entries, 0 to 499\n",
            "Data columns (total 15 columns):\n",
            " #   Column                    Non-Null Count  Dtype  \n",
            "---  ------                    --------------  -----  \n",
            " 0   founded_year              500 non-null    int64  \n",
            " 1   city                      500 non-null    object \n",
            " 2   industry                  500 non-null    object \n",
            " 3   has_online_presence       500 non-null    int64  \n",
            " 4   num_founders              500 non-null    float64\n",
            " 5   num_employees             500 non-null    int64  \n",
            " 6   got_external_funding      500 non-null    object \n",
            " 7   startup_stage             500 non-null    object \n",
            " 8   market_competition_level  500 non-null    object \n",
            " 9   incubator_support         500 non-null    int64  \n",
            " 10  num_direct_competitors    500 non-null    object \n",
            " 11  market_need_level         500 non-null    object \n",
            " 12  is_successful             500 non-null    object \n",
            " 13  years_to_failure          400 non-null    object \n",
            " 14  made_profit_in_3y         400 non-null    object \n",
            "dtypes: float64(1), int64(4), object(10)\n",
            "memory usage: 58.7+ KB\n"
          ]
        }
      ]
    },
    {
      "cell_type": "markdown",
      "source": [
        "***made_profit_in_3y***"
      ],
      "metadata": {
        "id": "uOoA1govBhG7"
      }
    },
    {
      "cell_type": "code",
      "source": [
        "print(df['made_profit_in_3y'].value_counts())"
      ],
      "metadata": {
        "colab": {
          "base_uri": "https://localhost:8080/"
        },
        "id": "C2vsQaUcBj_v",
        "outputId": "a5d89a36-ccda-4546-cc3d-dfd90deb4710"
      },
      "execution_count": 109,
      "outputs": [
        {
          "output_type": "stream",
          "name": "stdout",
          "text": [
            "made_profit_in_3y\n",
            "0    255\n",
            "1    125\n",
            "?     20\n",
            "Name: count, dtype: int64\n"
          ]
        }
      ]
    },
    {
      "cell_type": "code",
      "source": [
        "df=df.drop(['made_profit_in_3y'], axis=1)"
      ],
      "metadata": {
        "id": "c-1xQdYvB9zK"
      },
      "execution_count": 110,
      "outputs": []
    },
    {
      "cell_type": "markdown",
      "source": [
        "***years_to_failure***"
      ],
      "metadata": {
        "id": "xpnQqiNS_vHo"
      }
    },
    {
      "cell_type": "code",
      "source": [
        "print(df['years_to_failure'].value_counts())"
      ],
      "metadata": {
        "colab": {
          "base_uri": "https://localhost:8080/"
        },
        "id": "YQyB98gC_uQI",
        "outputId": "af3a37d3-1d4b-4c1d-9ffd-19654942e6d8"
      },
      "execution_count": 105,
      "outputs": [
        {
          "output_type": "stream",
          "name": "stdout",
          "text": [
            "years_to_failure\n",
            "—                      195\n",
            "1                       55\n",
            "2                       35\n",
            "3                       25\n",
            "0.5                     25\n",
            "0.8                     20\n",
            "6                       10\n",
            "2025-01-05 00:00:00     10\n",
            "2025-01-02 00:00:00     10\n",
            "4                        5\n",
            "2025-02-05 00:00:00      5\n",
            "0.6                      5\n",
            "Name: count, dtype: int64\n"
          ]
        }
      ]
    },
    {
      "cell_type": "code",
      "source": [
        "df = df.drop(['years_to_failure'], axis=1)"
      ],
      "metadata": {
        "id": "DiNDm1tvAnsa"
      },
      "execution_count": 106,
      "outputs": []
    },
    {
      "cell_type": "code",
      "source": [
        "df.shape"
      ],
      "metadata": {
        "colab": {
          "base_uri": "https://localhost:8080/"
        },
        "id": "NUN9Nc6vAvQa",
        "outputId": "a8dadd68-1587-4ea7-fbd3-383a0ab57daa"
      },
      "execution_count": 108,
      "outputs": [
        {
          "output_type": "execute_result",
          "data": {
            "text/plain": [
              "(500, 14)"
            ]
          },
          "metadata": {},
          "execution_count": 108
        }
      ]
    },
    {
      "cell_type": "markdown",
      "source": [
        "***market_need_level***"
      ],
      "metadata": {
        "id": "t-R2zz868YbF"
      }
    },
    {
      "cell_type": "code",
      "source": [
        "print(df['market_need_level'].value_counts())"
      ],
      "metadata": {
        "colab": {
          "base_uri": "https://localhost:8080/"
        },
        "id": "UdHrvK-U8V9p",
        "outputId": "22da5b36-d307-440a-a136-f70f905320c1"
      },
      "execution_count": 95,
      "outputs": [
        {
          "output_type": "stream",
          "name": "stdout",
          "text": [
            "market_need_level\n",
            "Medium    220\n",
            "Strong    145\n",
            "Low        20\n",
            "Weak       15\n",
            "Name: count, dtype: int64\n"
          ]
        }
      ]
    },
    {
      "cell_type": "code",
      "source": [
        "# prompt: fill nan vals with mode in market_need_level column\n",
        "\n",
        "print(df['market_need_level'].value_counts(dropna=False))\n",
        "print(\"Percentage of null values in 'market_need_level':\")\n",
        "print(df['market_need_level'].isnull().sum() / len(df) * 100)\n",
        "\n",
        "# Calculate the mode\n",
        "mode_market_need = df['market_need_level'].mode()[0]\n",
        "\n",
        "# Fill the null values with the mode\n",
        "df['market_need_level'].fillna(mode_market_need, inplace=True)\n",
        "\n",
        "# Verify that null values have been filled\n",
        "print(\"\\nAfter filling null values in 'market_need_level':\")\n",
        "print(df['market_need_level'].value_counts(dropna=False))\n",
        "print(df['market_need_level'].isnull().sum()) # Should be 0"
      ],
      "metadata": {
        "colab": {
          "base_uri": "https://localhost:8080/"
        },
        "id": "h9_142GL8koK",
        "outputId": "67734219-14c9-40b0-b6ed-172fa9936d58"
      },
      "execution_count": 96,
      "outputs": [
        {
          "output_type": "stream",
          "name": "stdout",
          "text": [
            "market_need_level\n",
            "Medium    220\n",
            "Strong    145\n",
            "NaN       100\n",
            "Low        20\n",
            "Weak       15\n",
            "Name: count, dtype: int64\n",
            "Percentage of null values in 'market_need_level':\n",
            "20.0\n",
            "\n",
            "After filling null values in 'market_need_level':\n",
            "market_need_level\n",
            "Medium    320\n",
            "Strong    145\n",
            "Low        20\n",
            "Weak       15\n",
            "Name: count, dtype: int64\n",
            "0\n"
          ]
        }
      ]
    },
    {
      "cell_type": "markdown",
      "source": [
        "***num_direct_competitors column***"
      ],
      "metadata": {
        "id": "0XBt-HT-1BNr"
      }
    },
    {
      "cell_type": "code",
      "source": [
        "# prompt: show counts of unique vals in  num_direct_competitors  column\n",
        "\n",
        "print(df['num_direct_competitors'].value_counts(dropna=False))"
      ],
      "metadata": {
        "colab": {
          "base_uri": "https://localhost:8080/"
        },
        "id": "3Nm40Dm81HpO",
        "outputId": "c8115f9c-164f-4f4a-80cb-2a6104c9ce49"
      },
      "execution_count": 88,
      "outputs": [
        {
          "output_type": "stream",
          "name": "stdout",
          "text": [
            "num_direct_competitors\n",
            "Many    185\n",
            "Some    145\n",
            "NaN     100\n",
            "Few      70\n",
            "Name: count, dtype: int64\n"
          ]
        }
      ]
    },
    {
      "cell_type": "code",
      "source": [
        "# prompt: fill null values with mode in num_direct_competitors column\n",
        "\n",
        "# Check the percentage of null values in the 'num_direct_competitors' column\n",
        "print(\"Percentage of null values in 'num_direct_competitors':\")\n",
        "print(df['num_direct_competitors'].isnull().sum() / len(df) * 100)\n",
        "\n",
        "# Based on the value counts and info() call, the null values are represented as NaN (checked by dropna=False in value_counts)\n",
        "# Fill null values with the mode (most frequent value) as it's likely a discrete numerical column\n",
        "# Calculate the mode\n",
        "mode_competitors = df['num_direct_competitors'].mode()[0]\n",
        "\n",
        "# Fill the null values\n",
        "df['num_direct_competitors'].fillna(mode_competitors, inplace=True)\n",
        "\n",
        "# Verify that null values have been filled\n",
        "print(\"\\nAfter filling null values in 'num_direct_competitors':\")\n",
        "print(df['num_direct_competitors'].value_counts(dropna=False))\n",
        "print(df['num_direct_competitors'].isnull().sum()) # Should be 0"
      ],
      "metadata": {
        "colab": {
          "base_uri": "https://localhost:8080/"
        },
        "id": "dZfKO6KK3GzD",
        "outputId": "a45ca6db-2349-42f2-dd84-73c4d463a3cb"
      },
      "execution_count": 94,
      "outputs": [
        {
          "output_type": "stream",
          "name": "stdout",
          "text": [
            "Percentage of null values in 'num_direct_competitors':\n",
            "0.0\n",
            "\n",
            "After filling null values in 'num_direct_competitors':\n",
            "num_direct_competitors\n",
            "Many    285\n",
            "Some    145\n",
            "Few      70\n",
            "Name: count, dtype: int64\n",
            "0\n"
          ]
        }
      ]
    },
    {
      "cell_type": "markdown",
      "source": [
        "***Incubator Support Column***"
      ],
      "metadata": {
        "id": "f7f-2kXSxu5q"
      }
    },
    {
      "cell_type": "code",
      "source": [
        "print(df['incubator_support'].value_counts())"
      ],
      "metadata": {
        "colab": {
          "base_uri": "https://localhost:8080/"
        },
        "id": "Ca7_5Dz4xhtd",
        "outputId": "e9e59718-8862-49ba-ebe9-64fef023d793"
      },
      "execution_count": 89,
      "outputs": [
        {
          "output_type": "stream",
          "name": "stdout",
          "text": [
            "incubator_support\n",
            "0.0    335\n",
            "1.0     65\n",
            "Name: count, dtype: int64\n"
          ]
        }
      ]
    },
    {
      "cell_type": "code",
      "source": [
        "print(df['incubator_support'].unique())"
      ],
      "metadata": {
        "colab": {
          "base_uri": "https://localhost:8080/"
        },
        "id": "5DPJibUXxh9_",
        "outputId": "edb704ed-bb3a-44cd-b222-00dba0899c4e"
      },
      "execution_count": 90,
      "outputs": [
        {
          "output_type": "stream",
          "name": "stdout",
          "text": [
            "[ 1.  0. nan]\n"
          ]
        }
      ]
    },
    {
      "cell_type": "code",
      "source": [
        "# prompt: fill nan values with mode\n",
        "\n",
        "# Based on the value counts and info() call, the null values are represented as NaN (checked by dropna=False in value_counts)\n",
        "# Fill null values with the mode (most frequent value) as it's a categorical column\n",
        "# Calculate the mode\n",
        "mode_incubator = df['incubator_support'].mode()[0]\n",
        "\n",
        "# Fill the null values\n",
        "df['incubator_support'].fillna(mode_incubator, inplace=True)\n",
        "\n",
        "# Verify that null values have been filled\n",
        "print(\"\\nAfter filling null values in 'incubator_support':\")\n",
        "print(df['incubator_support'].value_counts(dropna=False))\n",
        "print(df['incubator_support'].isnull().sum()) # Should be 0"
      ],
      "metadata": {
        "colab": {
          "base_uri": "https://localhost:8080/"
        },
        "id": "-L_bHR6lyIbV",
        "outputId": "bd32a057-e6ef-4657-f6ec-4c30eb70a406"
      },
      "execution_count": 91,
      "outputs": [
        {
          "output_type": "stream",
          "name": "stdout",
          "text": [
            "\n",
            "After filling null values in 'incubator_support':\n",
            "incubator_support\n",
            "0.0    435\n",
            "1.0     65\n",
            "Name: count, dtype: int64\n",
            "0\n"
          ]
        }
      ]
    },
    {
      "cell_type": "code",
      "source": [
        "# prompt: convert float vals to int vals in incubator_support column\n",
        "\n",
        "df['incubator_support'] = df['incubator_support'].astype(int)\n",
        "print(df['incubator_support'].value_counts())\n",
        "print(df['incubator_support'].unique())"
      ],
      "metadata": {
        "colab": {
          "base_uri": "https://localhost:8080/"
        },
        "id": "E2rXd7x_ycbi",
        "outputId": "cbce658a-378d-461a-d47c-4e56d64c71b6"
      },
      "execution_count": 92,
      "outputs": [
        {
          "output_type": "stream",
          "name": "stdout",
          "text": [
            "incubator_support\n",
            "0    435\n",
            "1     65\n",
            "Name: count, dtype: int64\n",
            "[1 0]\n"
          ]
        }
      ]
    },
    {
      "cell_type": "code",
      "source": [],
      "metadata": {
        "id": "pdm6LCFp3DNp"
      },
      "execution_count": null,
      "outputs": []
    },
    {
      "cell_type": "markdown",
      "source": [
        "***check data after cleaning***"
      ],
      "metadata": {
        "id": "OJPZvx9NCIiE"
      }
    },
    {
      "cell_type": "code",
      "source": [
        "df.info()"
      ],
      "metadata": {
        "colab": {
          "base_uri": "https://localhost:8080/"
        },
        "id": "WBk_azOsCODr",
        "outputId": "d609bea6-8106-4695-dea6-9c2877a3fca4"
      },
      "execution_count": 111,
      "outputs": [
        {
          "output_type": "stream",
          "name": "stdout",
          "text": [
            "<class 'pandas.core.frame.DataFrame'>\n",
            "RangeIndex: 500 entries, 0 to 499\n",
            "Data columns (total 13 columns):\n",
            " #   Column                    Non-Null Count  Dtype  \n",
            "---  ------                    --------------  -----  \n",
            " 0   founded_year              500 non-null    int64  \n",
            " 1   city                      500 non-null    object \n",
            " 2   industry                  500 non-null    object \n",
            " 3   has_online_presence       500 non-null    int64  \n",
            " 4   num_founders              500 non-null    float64\n",
            " 5   num_employees             500 non-null    int64  \n",
            " 6   got_external_funding      500 non-null    object \n",
            " 7   startup_stage             500 non-null    object \n",
            " 8   market_competition_level  500 non-null    object \n",
            " 9   incubator_support         500 non-null    int64  \n",
            " 10  num_direct_competitors    500 non-null    object \n",
            " 11  market_need_level         500 non-null    object \n",
            " 12  is_successful             500 non-null    object \n",
            "dtypes: float64(1), int64(4), object(8)\n",
            "memory usage: 50.9+ KB\n"
          ]
        }
      ]
    },
    {
      "cell_type": "code",
      "source": [
        "# prompt: print unique values in each column\n",
        "\n",
        "for col in df.columns:\n",
        "  print(f\"Unique values in column '{col}':\")\n",
        "  print(df[col].unique())\n",
        "  print(\"-\" * 20)\n"
      ],
      "metadata": {
        "colab": {
          "base_uri": "https://localhost:8080/"
        },
        "id": "QFDkU5koCP14",
        "outputId": "f21fd931-41cd-4de3-8872-eac83be6a979"
      },
      "execution_count": 112,
      "outputs": [
        {
          "output_type": "stream",
          "name": "stdout",
          "text": [
            "Unique values in column 'founded_year':\n",
            "[2017 2015 2014 2018 2019 2016 2011 2021 2020 2012 2024 1982 1988 2000\n",
            " 2009 1997]\n",
            "--------------------\n",
            "Unique values in column 'city':\n",
            "['Cairo' 'Alexandria' 'Assiut' 'Portsaid' 'Ismailia' 'Suez' 'Damietta'\n",
            " 'Sohag' 'Luxor' 'Qena' 'Aswan' 'Minya' 'online']\n",
            "--------------------\n",
            "Unique values in column 'industry':\n",
            "['Fintech' 'Logistics' 'Transportation' 'F&B/Ecom' 'E‑commerce' 'IoT'\n",
            " 'Travel Tech' 'AI/NLP' 'Delivery' 'Co‑working' 'Social commerce'\n",
            " 'Logistics/Cloud' 'B2B e‑commerce' 'Price comparison'\n",
            " 'Entertainment Portal' 'Hardware/mobile' 'Arts & Culture' 'Aviation'\n",
            " 'Fast Food' 'Logistics/Port' 'Maritime services' 'Delivery (Print)'\n",
            " 'Events Management' 'Café / F&B' 'Food Delivery' 'Co‑working Space'\n",
            " 'Restaurant' 'Art & Crafts' 'Agri-business' 'Industrial Tech'\n",
            " 'Tech Valley' 'Handicrafts shop' 'Restaurant chain' 'Tourism services'\n",
            " 'E-commerce' 'Food & Beverage' 'Home Services' 'Co-working'\n",
            " 'Cleaning Service' 'Port Analytics' 'Aquaculture Tech'\n",
            " 'Wood Products Ecom' 'Bakery E‑Commerce' 'Furniture Export'\n",
            " 'Crafts/Gifts' 'Café / Bakery' 'Seafood Delivery' 'Woodcraft Shop'\n",
            " 'Agri-Tech' 'Furniture Retail' 'Agri‑Tech' 'Renewable Energy'\n",
            " 'Arts & Heritage Ecom' 'Tourism Services' 'Textile E‑commerce'\n",
            " 'Stone Export' 'Health Services' 'EdTech' 'Transport App'\n",
            " 'Tourism Photography' 'Fashion E‑commerce' 'Mobility' 'Agri‑business'\n",
            " 'Tutoring Services' 'Craft Shop' 'Food Truck' 'HealthTech' 'E‑grocery'\n",
            " 'FoodTech' 'FinTech' 'Gaming/Esports' 'Home‑cooked Meal' 'Carpooling App'\n",
            " 'Home‑meal Delivery' 'Solar Equipment' 'Logistics Platform'\n",
            " 'Ride‑hailing' 'Transport Platform' 'Video Streaming'\n",
            " 'Grocery Automation']\n",
            "--------------------\n",
            "Unique values in column 'has_online_presence':\n",
            "[1 0]\n",
            "--------------------\n",
            "Unique values in column 'num_founders':\n",
            "[3. 2. 1. 4.]\n",
            "--------------------\n",
            "Unique values in column 'num_employees':\n",
            "[ 500  200  300  600  150   40   12   44    5   10  100   50 2000   20\n",
            "    3   37    4    8   15   30    6   35   25    7  120   80   60   45]\n",
            "--------------------\n",
            "Unique values in column 'got_external_funding':\n",
            "['1' '0']\n",
            "--------------------\n",
            "Unique values in column 'startup_stage':\n",
            "['Market' 'Market entry' 'Growth' 'Scale']\n",
            "--------------------\n",
            "Unique values in column 'market_competition_level':\n",
            "['High' 'Medium' 'Low']\n",
            "--------------------\n",
            "Unique values in column 'incubator_support':\n",
            "[1 0]\n",
            "--------------------\n",
            "Unique values in column 'num_direct_competitors':\n",
            "['Many' 'Some' 'Few']\n",
            "--------------------\n",
            "Unique values in column 'market_need_level':\n",
            "['Strong' 'Medium' 'Weak' 'Low']\n",
            "--------------------\n",
            "Unique values in column 'is_successful':\n",
            "['1' '0' 'nan']\n",
            "--------------------\n"
          ]
        }
      ]
    },
    {
      "cell_type": "code",
      "source": [
        "# prompt: save the df in csv file called 'cleaned_augmented_success_prediction_dataset' and download it\n",
        "\n",
        "# Save the cleaned DataFrame to a CSV file\n",
        "df.to_csv('cleaned_augmented_success_prediction_dataset.csv', index=False)\n",
        "\n",
        "# Download the CSV file\n",
        "files.download('cleaned_augmented_success_prediction_dataset.csv')"
      ],
      "metadata": {
        "id": "cj_IOmWPCjuc"
      },
      "execution_count": 113,
      "outputs": []
    }
  ]
}